{
  "nbformat": 4,
  "nbformat_minor": 0,
  "metadata": {
    "colab": {
      "name": "MCA_SistDist_Ex1_SBH.ipynb",
      "version": "0.3.2",
      "provenance": [],
      "collapsed_sections": [
        "z8ymiusd7H0S",
        "Q0ECIUt7IEnn",
        "2z27OUe6gBCe",
        "5e4C0k_xjY9m",
        "2weeJJmh-wtK",
        "BHAlw5bumGP7",
        "LJKZGl1B8L1c",
        "jz8mTMK2ymiX",
        "QmpNHvPv_FPd",
        "SVqLnuuR_Mf6",
        "i1RWse3G_T5C",
        "IDRoB1_iBNNb",
        "b_BgByLh3jKm",
        "lGxxT-LyMZFM",
        "fYgeKQ56EXSM",
        "1rswtdLfaJqF"
      ],
      "include_colab_link": true
    },
    "kernelspec": {
      "name": "python3",
      "display_name": "Python 3"
    },
    "accelerator": "GPU"
  },
  "cells": [
    {
      "cell_type": "markdown",
      "metadata": {
        "id": "view-in-github",
        "colab_type": "text"
      },
      "source": [
        "<a href=\"https://colab.research.google.com/github/htapiagroup/sistemas-distribuidos-evaluacion-intersemestral-BaezCrdrm/blob/Avance/MCA_SistDist_Ex1_SBH.ipynb\" target=\"_parent\"><img src=\"https://colab.research.google.com/assets/colab-badge.svg\" alt=\"Open In Colab\"/></a>"
      ]
    },
    {
      "cell_type": "markdown",
      "metadata": {
        "id": "z8ymiusd7H0S",
        "colab_type": "text"
      },
      "source": [
        "# Sistemas Distribuidos"
      ]
    },
    {
      "cell_type": "markdown",
      "metadata": {
        "id": "Q0ECIUt7IEnn",
        "colab_type": "text"
      },
      "source": [
        "## Instrucciones"
      ]
    },
    {
      "cell_type": "markdown",
      "metadata": {
        "id": "M8enJ4AemB_m",
        "colab_type": "text"
      },
      "source": [
        "### Primera evaluacion\n",
        "\n",
        "Se evaluaran los siguientes puntos:\n",
        "\n",
        "#### Importar datos\n",
        "\n",
        "1. Adquirir los datos.\n",
        "> * El conjunto de datos con el que van a trabajar esta disponibles en [este enlace](https://archive.org/download/nycTaxiTripData2013/trip_data.7z) y consiste en 12 archivos de texto que tiene informacion del viajes de taxis en la ciudad de NY durante el 2013.\n",
        "> * En la red interna de LANIA usando cable la descarga del archivo comprimido desde el enlace tomó entre 5 y 10 minutos. Tomen sus provisiones\n",
        "> * El archivo comprimido tiene un tamaño de aproximadamente 4G, el tamaño de archivo mensual oscila entre 2.0 y 2.5G. La base de datos completa es de aproximadamente 30G.\n",
        "2. Una vez descargado el archivo pueden descomprimirlo usando la siguiente instruccion\n",
        ">` !7z x trip_data.7z -o/content/`\n",
        "sin embargo si intentan descomprimir todos los archivos en su sesion se van a terminar el espacio de disco disponible. En esta practica solo van a trabajar con datos correspondientes a los primeros cuatro meses. \n",
        "3. Responder las siguientes preguntas:\n",
        "   1. Cuantas columnas contiene cada archivo de datos descomprimido\n",
        "   2. Cuantos renglones tiene cada archivo\n",
        "4. Identificar si existen renglones con errores en los datos, por ejemplo si hay columnas de mas (o de menos), si hay campos vacios, etc. Si se detectan renglones con errores:\n",
        "    1. indicar claramente cuantos son los renglones con errores y a que archivos corresponden\n",
        "    2. crear un nuevo conjunto de datos con los errores eliminados\n",
        "5. Crear un `DataFrame` usando la libreria `pandas` y responder lo siguiente:\n",
        "   1. Indicar el tiempo en segundos, que  tarda la libreria `pandas` en leer un archivo a un  `DataFrame`\n",
        "   2. Cual es la huella de memoria del proceso usado para generar el objeto `DataFrame`\n",
        "   2. Cuanta memoria del sistema se usa para crear el objeto anterior\n",
        "   3. Indicar el tiempo que tarda `pandas` en obtener el promedio de la distancia de viaje (`trip_distance`)\n",
        "6. Todos los pasos siguientes deben **realizarse** usando la libreria `dask`\n",
        "   3. Indicar el tiempo que tarda en obtener el promedio de la distancia de viaje (`trip_distance`)\n",
        "   3. Indicar el tiempo que tarda en obtener el promedio de la duracion de viaje (`trip_time_in_secs`)\n",
        "   4. Con las columnas `pickup_datetime` y `dropoff_datetime` como objetos temporales, crear una nueva columna en los dataframes que se llame `duracion` y compararla renglon a renglon con la columna `trip_time_in_secs`\n",
        "   5. Definir un `viaje_largo` como aquellos en los que la duracion del viaje (`trip_time_in_secs`) sea mayor a 20 minutos.\n",
        "7. Contar el numero de viajes largos en cada archivo\n",
        "8. De los viajes largos, identificar el numero de taxis diferentes (la columna `medallion` contiene un numeroque identificada a cada uno de los vehiculos). Que vehiculos son los que mas viajes realizan en cada mes? Son el mismo vehiculo?\n",
        "9. Hacer una grafica temporal del numero total de pasajeros agregados por dias de la semana y despues por horas del dia. Sugerencia: agregar por el correspondiente periodo temporal y graficar. Que pueden observar de las graficas?\n",
        "10. Elegir el vehiculo con mas viajes en cada mes y graficar en un mapa los sitios donde se suben pasajeros agrupados por\n",
        "   * dia de la semana (un color distinto para cada dia)\n",
        "   * hora del dia (un color distinto para cada intervalo de cuatro horas,00:00 - 03:59, 04:00--07:59, 08:00-11:59, etc.)\n",
        "11. Repetir para las posiciones donde se bajan los pasajeros para el mismo vehiculo.\n"
      ]
    },
    {
      "cell_type": "markdown",
      "metadata": {
        "id": "in4a_GzroGX7",
        "colab_type": "text"
      },
      "source": [
        "# Desarrollo y comprobación\n",
        "Este segmento contiene toda la información realizada para responder las preguntas establecidas."
      ]
    },
    {
      "cell_type": "code",
      "metadata": {
        "id": "1_nNVziJgt_s",
        "colab_type": "code",
        "colab": {}
      },
      "source": [
        "import psutil, os\n",
        "import pandas as pd, time\n",
        "import dask\n",
        "import dask.dataframe as dd\n",
        "from dask import delayed\n",
        "import matplotlib.pyplot as plt"
      ],
      "execution_count": 0,
      "outputs": []
    },
    {
      "cell_type": "markdown",
      "metadata": {
        "id": "cAtJ54LmiYjl",
        "colab_type": "text"
      },
      "source": [
        "La función `huella_memoria` fue obtenida de las libretas de cuadernos anteriores."
      ]
    },
    {
      "cell_type": "code",
      "metadata": {
        "id": "4AT_cL1OiO2p",
        "colab_type": "code",
        "colab": {}
      },
      "source": [
        "def huella_memoria():\n",
        "    ''' Regresa la juella de memoria en MB usada por un proceso de Python'''\n",
        "    mem = psutil.Process(os.getpid()).memory_info().rss\n",
        "    return (mem / 1024**2)"
      ],
      "execution_count": 0,
      "outputs": []
    },
    {
      "cell_type": "markdown",
      "metadata": {
        "id": "cS9pLQN0Er9K",
        "colab_type": "text"
      },
      "source": [
        "## 1. Adquirir los datos"
      ]
    },
    {
      "cell_type": "markdown",
      "metadata": {
        "id": "1G1ZSyqNim_7",
        "colab_type": "text"
      },
      "source": [
        "Agregar Google Drive para no tener que descargar los datos."
      ]
    },
    {
      "cell_type": "code",
      "metadata": {
        "id": "7tvGHP_cf47Z",
        "colab_type": "code",
        "outputId": "c2b988e8-c252-48ec-a97a-ff21159ea0aa",
        "colab": {
          "base_uri": "https://localhost:8080/",
          "height": 34
        }
      },
      "source": [
        "from google.colab import drive\n",
        "drive.mount('/content/gdrive/', force_remount=True)"
      ],
      "execution_count": 3,
      "outputs": [
        {
          "output_type": "stream",
          "text": [
            "Mounted at /content/gdrive/\n"
          ],
          "name": "stdout"
        }
      ]
    },
    {
      "cell_type": "code",
      "metadata": {
        "id": "L1I6QmpMJFh9",
        "colab_type": "code",
        "outputId": "a170bfd3-1404-444a-d10d-b5d61669e069",
        "colab": {
          "base_uri": "https://localhost:8080/",
          "height": 34
        }
      },
      "source": [
        "cd /content/gdrive/"
      ],
      "execution_count": 4,
      "outputs": [
        {
          "output_type": "stream",
          "text": [
            "/content/gdrive\n"
          ],
          "name": "stdout"
        }
      ]
    },
    {
      "cell_type": "code",
      "metadata": {
        "id": "Fxv_KmhLJqnX",
        "colab_type": "code",
        "outputId": "d28837b1-8610-4ff1-883d-cd756032cbad",
        "colab": {
          "base_uri": "https://localhost:8080/",
          "height": 34
        }
      },
      "source": [
        "ls"
      ],
      "execution_count": 5,
      "outputs": [
        {
          "output_type": "stream",
          "text": [
            "\u001b[0m\u001b[01;34m'My Drive'\u001b[0m/\n"
          ],
          "name": "stdout"
        }
      ]
    },
    {
      "cell_type": "code",
      "metadata": {
        "id": "bZoJOMIpJNhG",
        "colab_type": "code",
        "outputId": "648875de-ce70-4426-9ddb-aa1de0bc34b7",
        "colab": {
          "base_uri": "https://localhost:8080/",
          "height": 34
        }
      },
      "source": [
        "pwd"
      ],
      "execution_count": 6,
      "outputs": [
        {
          "output_type": "execute_result",
          "data": {
            "text/plain": [
              "'/content/gdrive'"
            ]
          },
          "metadata": {
            "tags": []
          },
          "execution_count": 6
        }
      ]
    },
    {
      "cell_type": "code",
      "metadata": {
        "id": "KvxglLqXgtAh",
        "colab_type": "code",
        "outputId": "1dc5d96b-7497-4e91-abcb-6cabea51c982",
        "colab": {
          "base_uri": "https://localhost:8080/",
          "height": 34
        }
      },
      "source": [
        "cd /content/gdrive/My\\ Drive/SD"
      ],
      "execution_count": 7,
      "outputs": [
        {
          "output_type": "stream",
          "text": [
            "/content/gdrive/My Drive/SD\n"
          ],
          "name": "stdout"
        }
      ]
    },
    {
      "cell_type": "markdown",
      "metadata": {
        "id": "Zo5rBMbzmTqi",
        "colab_type": "text"
      },
      "source": [
        "Obtiene y descomprime los datos"
      ]
    },
    {
      "cell_type": "code",
      "metadata": {
        "id": "E3JwegIH7E1Z",
        "colab_type": "code",
        "colab": {}
      },
      "source": [
        "if not os.path.exists(\"/content/gdrive/My Drive/SD/trip_data.7z\"):\n",
        "    comando = \"wget https://archive.org/download/nycTaxiTripData2013/trip_data.7z && 7z x trip_data.7z\"\n",
        "    os.system(comando)"
      ],
      "execution_count": 0,
      "outputs": []
    },
    {
      "cell_type": "code",
      "metadata": {
        "id": "sE0vQusQf_7P",
        "colab_type": "code",
        "colab": {}
      },
      "source": [
        "ruta_principal = '/content/gdrive/My Drive/SD/'\n",
        "ruta_datos = ruta_principal + \"Datos/\"\n",
        "if not os.path.exists(ruta_datos):\n",
        "    os.mkdir(ruta_datos)"
      ],
      "execution_count": 0,
      "outputs": []
    },
    {
      "cell_type": "code",
      "metadata": {
        "id": "UI6CeJMq5Y4j",
        "colab_type": "code",
        "colab": {}
      },
      "source": [
        "total_archivos = 12\n",
        "archivo_temp = \"trip_data_{}.csv\"\n",
        "ruta = ruta_datos + archivo_temp\n",
        "archivos = [ruta.format(k) for k in range(1, total_archivos + 1)]\n",
        "ruta = ruta_principal + \"temp/\" + archivo_temp\n",
        "archivos_temporales = [ruta.format(k) for k in range(1, total_archivos + 1)]\n",
        "comando = \"7z e '/content/gdrive/My Drive/SD/trip_data.7z' -o/content/gdrive/My Drive/SD/temp' \" + archivo_temp\n",
        "comandos = [comando.format(k) for k in range(1, total_archivos + 1)]"
      ],
      "execution_count": 0,
      "outputs": []
    },
    {
      "cell_type": "code",
      "metadata": {
        "id": "mqcxfOOFge4c",
        "colab_type": "code",
        "colab": {}
      },
      "source": [
        "import numpy as np\n",
        "ac = np.array([archivos, comandos, archivos_temporales]).T\n",
        "ac = ac.tolist()"
      ],
      "execution_count": 0,
      "outputs": []
    },
    {
      "cell_type": "code",
      "metadata": {
        "id": "w7rAXoOVghwF",
        "colab_type": "code",
        "outputId": "d6c93ff6-a59c-4863-e212-d868af37e426",
        "colab": {
          "base_uri": "https://localhost:8080/",
          "height": 440
        }
      },
      "source": [
        "for i in ac:\n",
        "    print(\"Imprimio\")\n",
        "    print(i)"
      ],
      "execution_count": 12,
      "outputs": [
        {
          "output_type": "stream",
          "text": [
            "Imprimio\n",
            "['/content/gdrive/My Drive/SD/Datos/trip_data_1.csv', \"7z e '/content/gdrive/My Drive/SD/trip_data.7z' -o/content/gdrive/My Drive/SD/temp' trip_data_1.csv\", '/content/gdrive/My Drive/SD/temp/trip_data_1.csv']\n",
            "Imprimio\n",
            "['/content/gdrive/My Drive/SD/Datos/trip_data_2.csv', \"7z e '/content/gdrive/My Drive/SD/trip_data.7z' -o/content/gdrive/My Drive/SD/temp' trip_data_2.csv\", '/content/gdrive/My Drive/SD/temp/trip_data_2.csv']\n",
            "Imprimio\n",
            "['/content/gdrive/My Drive/SD/Datos/trip_data_3.csv', \"7z e '/content/gdrive/My Drive/SD/trip_data.7z' -o/content/gdrive/My Drive/SD/temp' trip_data_3.csv\", '/content/gdrive/My Drive/SD/temp/trip_data_3.csv']\n",
            "Imprimio\n",
            "['/content/gdrive/My Drive/SD/Datos/trip_data_4.csv', \"7z e '/content/gdrive/My Drive/SD/trip_data.7z' -o/content/gdrive/My Drive/SD/temp' trip_data_4.csv\", '/content/gdrive/My Drive/SD/temp/trip_data_4.csv']\n",
            "Imprimio\n",
            "['/content/gdrive/My Drive/SD/Datos/trip_data_5.csv', \"7z e '/content/gdrive/My Drive/SD/trip_data.7z' -o/content/gdrive/My Drive/SD/temp' trip_data_5.csv\", '/content/gdrive/My Drive/SD/temp/trip_data_5.csv']\n",
            "Imprimio\n",
            "['/content/gdrive/My Drive/SD/Datos/trip_data_6.csv', \"7z e '/content/gdrive/My Drive/SD/trip_data.7z' -o/content/gdrive/My Drive/SD/temp' trip_data_6.csv\", '/content/gdrive/My Drive/SD/temp/trip_data_6.csv']\n",
            "Imprimio\n",
            "['/content/gdrive/My Drive/SD/Datos/trip_data_7.csv', \"7z e '/content/gdrive/My Drive/SD/trip_data.7z' -o/content/gdrive/My Drive/SD/temp' trip_data_7.csv\", '/content/gdrive/My Drive/SD/temp/trip_data_7.csv']\n",
            "Imprimio\n",
            "['/content/gdrive/My Drive/SD/Datos/trip_data_8.csv', \"7z e '/content/gdrive/My Drive/SD/trip_data.7z' -o/content/gdrive/My Drive/SD/temp' trip_data_8.csv\", '/content/gdrive/My Drive/SD/temp/trip_data_8.csv']\n",
            "Imprimio\n",
            "['/content/gdrive/My Drive/SD/Datos/trip_data_9.csv', \"7z e '/content/gdrive/My Drive/SD/trip_data.7z' -o/content/gdrive/My Drive/SD/temp' trip_data_9.csv\", '/content/gdrive/My Drive/SD/temp/trip_data_9.csv']\n",
            "Imprimio\n",
            "['/content/gdrive/My Drive/SD/Datos/trip_data_10.csv', \"7z e '/content/gdrive/My Drive/SD/trip_data.7z' -o/content/gdrive/My Drive/SD/temp' trip_data_10.csv\", '/content/gdrive/My Drive/SD/temp/trip_data_10.csv']\n",
            "Imprimio\n",
            "['/content/gdrive/My Drive/SD/Datos/trip_data_11.csv', \"7z e '/content/gdrive/My Drive/SD/trip_data.7z' -o/content/gdrive/My Drive/SD/temp' trip_data_11.csv\", '/content/gdrive/My Drive/SD/temp/trip_data_11.csv']\n",
            "Imprimio\n",
            "['/content/gdrive/My Drive/SD/Datos/trip_data_12.csv', \"7z e '/content/gdrive/My Drive/SD/trip_data.7z' -o/content/gdrive/My Drive/SD/temp' trip_data_12.csv\", '/content/gdrive/My Drive/SD/temp/trip_data_12.csv']\n"
          ],
          "name": "stdout"
        }
      ]
    },
    {
      "cell_type": "code",
      "metadata": {
        "id": "S1ZPAC2qV04M",
        "colab_type": "code",
        "outputId": "90dc6489-cccb-4485-a693-abee729286e5",
        "colab": {
          "base_uri": "https://localhost:8080/",
          "height": 34
        }
      },
      "source": [
        "if os.path.exists('/content/gdrive/My Drive/SD/Datos/trip_data_7.csv'):\n",
        "    print(True)\n",
        "else:\n",
        "    print(False)"
      ],
      "execution_count": 13,
      "outputs": [
        {
          "output_type": "stream",
          "text": [
            "True\n"
          ],
          "name": "stdout"
        }
      ]
    },
    {
      "cell_type": "markdown",
      "metadata": {
        "id": "2z27OUe6gBCe",
        "colab_type": "text"
      },
      "source": [
        "## Pandas Versión 1\n",
        "Un sólo archivo. Para entrega del [martes 18 de junio](https://github.com/htapiagroup/sistemas-distribuidos-evaluacion-intersemestral-BaezCrdrm/blob/0c178f606223985b407d9e467ec42823b555fbd7/MCA_SistDist_Ex1_SBH.ipynb)."
      ]
    },
    {
      "cell_type": "markdown",
      "metadata": {
        "id": "VN3S9qMrldiK",
        "colab_type": "text"
      },
      "source": [
        "### Colaboradores de esta sección\n",
        "- Luis Daniel Hernandez Jimenez\n",
        "- Alexis Martínez Arteaga\n",
        "- Jose David Cobos Trujillo\n",
        "- Lorrain Eugenio Giddings Soto\n",
        "- Yoselin Araceli Campos Sacramento\n",
        "- Ana Margarita Reyes Hernandez\n",
        "- Joaquin Aguilar Hernandez\n",
        "- Georgina Valenzuela Carrasco\n",
        "- Horacio Tapia McClung"
      ]
    },
    {
      "cell_type": "markdown",
      "metadata": {
        "id": "5e4C0k_xjY9m",
        "colab_type": "text"
      },
      "source": [
        "### 2. Descomprime datos"
      ]
    },
    {
      "cell_type": "markdown",
      "metadata": {
        "id": "PZ-2ii6PojT0",
        "colab_type": "text"
      },
      "source": [
        "#### Descomprime un sólo archivo de datos descargados."
      ]
    },
    {
      "cell_type": "code",
      "metadata": {
        "id": "4sYbJsZCjDZK",
        "colab_type": "code",
        "outputId": "e28d2cf9-2fc9-4304-aa56-182466a3accb",
        "colab": {
          "base_uri": "https://localhost:8080/",
          "height": 403
        }
      },
      "source": [
        "!7z e trip_data.7z -o/content/gdrive/My\\ Drive/Colab\\ Notebooks/Evaluacion/Data trip_data_1.csv"
      ],
      "execution_count": 0,
      "outputs": [
        {
          "output_type": "stream",
          "text": [
            "\n",
            "7-Zip [64] 16.02 : Copyright (c) 1999-2016 Igor Pavlov : 2016-05-21\n",
            "p7zip Version 16.02 (locale=en_US.UTF-8,Utf16=on,HugeFiles=on,64 bits,2 CPUs Intel(R) Xeon(R) CPU @ 2.20GHz (406F0),ASM,AES-NI)\n",
            "\n",
            "Scanning the drive for archives:\n",
            "  0M Scan\b\b\b\b\b\b\b\b\b         \b\b\b\b\b\b\b\b\b1 file, 4102781969 bytes (3913 MiB)\n",
            "\n",
            "Extracting archive: trip_data.7z\n",
            "--\n",
            "Path = trip_data.7z\n",
            "Type = 7z\n",
            "Physical Size = 4102781969\n",
            "Headers Size = 433\n",
            "Method = LZMA:24\n",
            "Solid = -\n",
            "Blocks = 12\n",
            "\n",
            "  0%\b\b\b\b    \b\b\b\b  0% - trip_data_1.csv\b\b\b\b\b\b\b\b\b\b\b\b\b\b\b\b\b\b\b\b\b\b                      \b\b\b\b\b\b\b\b\b\b\b\b\b\b\b\b\b\b\b\b\b\b  1% - trip_data_1.csv\b\b\b\b\b\b\b\b\b\b\b\b\b\b\b\b\b\b\b\b\b\b                      \b\b\b\b\b\b\b\b\b\b\b\b\b\b\b\b\b\b\b\b\b\b  2% - trip_data_1.csv\b\b\b\b\b\b\b\b\b\b\b\b\b\b\b\b\b\b\b\b\b\b                      \b\b\b\b\b\b\b\b\b\b\b\b\b\b\b\b\b\b\b\b\b\b  3% - trip_data_1.csv\b\b\b\b\b\b\b\b\b\b\b\b\b\b\b\b\b\b\b\b\b\b                      \b\b\b\b\b\b\b\b\b\b\b\b\b\b\b\b\b\b\b\b\b\b\n",
            "Archives with Errors: 1\n",
            "\n",
            "\n",
            "\n",
            "Break signaled\n"
          ],
          "name": "stdout"
        }
      ]
    },
    {
      "cell_type": "code",
      "metadata": {
        "id": "BVYZVvgykct1",
        "colab_type": "code",
        "outputId": "00d9710a-04e2-400c-f043-8ea6d3189255",
        "colab": {
          "base_uri": "https://localhost:8080/",
          "height": 34
        }
      },
      "source": [
        "cd Data"
      ],
      "execution_count": 0,
      "outputs": [
        {
          "output_type": "stream",
          "text": [
            "/content/gdrive/My Drive/Colab Notebooks/Evaluacion/Data\n"
          ],
          "name": "stdout"
        }
      ]
    },
    {
      "cell_type": "markdown",
      "metadata": {
        "id": "2weeJJmh-wtK",
        "colab_type": "text"
      },
      "source": [
        "### 5. Crear un `DataFrame` usando la libreria `pandas`."
      ]
    },
    {
      "cell_type": "code",
      "metadata": {
        "id": "qO5Iw111BpBR",
        "colab_type": "code",
        "colab": {}
      },
      "source": [
        "# Tiempo y memoria\n",
        "t_start = time.time()\n",
        "mem_antes = huella_memoria()\n",
        "\n",
        "df = pd.read_csv('trip_data_1.csv')\n",
        "\n",
        "# Tiempo y memoria\n",
        "mem_despues = huella_memoria()\n",
        "t_end = time.time()"
      ],
      "execution_count": 0,
      "outputs": []
    },
    {
      "cell_type": "markdown",
      "metadata": {
        "id": "BHAlw5bumGP7",
        "colab_type": "text"
      },
      "source": [
        "### 3. Preguntas"
      ]
    },
    {
      "cell_type": "markdown",
      "metadata": {
        "id": "Fa-eBgMZpAwU",
        "colab_type": "text"
      },
      "source": [
        "Contar dimensiones del dataframe.\n",
        "\n",
        "Hay `14776615` registros y `14` variables/columnas."
      ]
    },
    {
      "cell_type": "code",
      "metadata": {
        "id": "2ZtONw4cmL0-",
        "colab_type": "code",
        "outputId": "035ec0e4-ed9d-4117-a763-33d40b976875",
        "colab": {
          "base_uri": "https://localhost:8080/",
          "height": 34
        }
      },
      "source": [
        "df.shape"
      ],
      "execution_count": 0,
      "outputs": [
        {
          "output_type": "execute_result",
          "data": {
            "text/plain": [
              "(14776615, 14)"
            ]
          },
          "metadata": {
            "tags": []
          },
          "execution_count": 14
        }
      ]
    },
    {
      "cell_type": "markdown",
      "metadata": {
        "id": "LJKZGl1B8L1c",
        "colab_type": "text"
      },
      "source": [
        "### 4. Identificar si existen renglones con errores en los datos, por ejemplo si hay columnas de mas (o de menos), si hay campos vacios, etc. Si se detectan renglones con errores:"
      ]
    },
    {
      "cell_type": "code",
      "metadata": {
        "id": "x9-fuwvEpFoV",
        "colab_type": "code",
        "outputId": "9e264cac-17c4-489b-8e90-22406c4f5890",
        "colab": {
          "base_uri": "https://localhost:8080/",
          "height": 299
        }
      },
      "source": [
        "df.head()"
      ],
      "execution_count": 0,
      "outputs": [
        {
          "output_type": "execute_result",
          "data": {
            "text/html": [
              "<div>\n",
              "<style scoped>\n",
              "    .dataframe tbody tr th:only-of-type {\n",
              "        vertical-align: middle;\n",
              "    }\n",
              "\n",
              "    .dataframe tbody tr th {\n",
              "        vertical-align: top;\n",
              "    }\n",
              "\n",
              "    .dataframe thead th {\n",
              "        text-align: right;\n",
              "    }\n",
              "</style>\n",
              "<table border=\"1\" class=\"dataframe\">\n",
              "  <thead>\n",
              "    <tr style=\"text-align: right;\">\n",
              "      <th></th>\n",
              "      <th>medallion</th>\n",
              "      <th>hack_license</th>\n",
              "      <th>vendor_id</th>\n",
              "      <th>rate_code</th>\n",
              "      <th>store_and_fwd_flag</th>\n",
              "      <th>pickup_datetime</th>\n",
              "      <th>dropoff_datetime</th>\n",
              "      <th>passenger_count</th>\n",
              "      <th>trip_time_in_secs</th>\n",
              "      <th>trip_distance</th>\n",
              "      <th>pickup_longitude</th>\n",
              "      <th>pickup_latitude</th>\n",
              "      <th>dropoff_longitude</th>\n",
              "      <th>dropoff_latitude</th>\n",
              "    </tr>\n",
              "  </thead>\n",
              "  <tbody>\n",
              "    <tr>\n",
              "      <th>0</th>\n",
              "      <td>89D227B655E5C82AECF13C3F540D4CF4</td>\n",
              "      <td>BA96DE419E711691B9445D6A6307C170</td>\n",
              "      <td>CMT</td>\n",
              "      <td>1</td>\n",
              "      <td>N</td>\n",
              "      <td>2013-01-01 15:11:48</td>\n",
              "      <td>2013-01-01 15:18:10</td>\n",
              "      <td>4</td>\n",
              "      <td>382</td>\n",
              "      <td>1.0</td>\n",
              "      <td>-73.978165</td>\n",
              "      <td>40.757977</td>\n",
              "      <td>-73.989838</td>\n",
              "      <td>40.751171</td>\n",
              "    </tr>\n",
              "    <tr>\n",
              "      <th>1</th>\n",
              "      <td>0BD7C8F5BA12B88E0B67BED28BEA73D8</td>\n",
              "      <td>9FD8F69F0804BDB5549F40E9DA1BE472</td>\n",
              "      <td>CMT</td>\n",
              "      <td>1</td>\n",
              "      <td>N</td>\n",
              "      <td>2013-01-06 00:18:35</td>\n",
              "      <td>2013-01-06 00:22:54</td>\n",
              "      <td>1</td>\n",
              "      <td>259</td>\n",
              "      <td>1.5</td>\n",
              "      <td>-74.006683</td>\n",
              "      <td>40.731781</td>\n",
              "      <td>-73.994499</td>\n",
              "      <td>40.750660</td>\n",
              "    </tr>\n",
              "    <tr>\n",
              "      <th>2</th>\n",
              "      <td>0BD7C8F5BA12B88E0B67BED28BEA73D8</td>\n",
              "      <td>9FD8F69F0804BDB5549F40E9DA1BE472</td>\n",
              "      <td>CMT</td>\n",
              "      <td>1</td>\n",
              "      <td>N</td>\n",
              "      <td>2013-01-05 18:49:41</td>\n",
              "      <td>2013-01-05 18:54:23</td>\n",
              "      <td>1</td>\n",
              "      <td>282</td>\n",
              "      <td>1.1</td>\n",
              "      <td>-74.004707</td>\n",
              "      <td>40.737770</td>\n",
              "      <td>-74.009834</td>\n",
              "      <td>40.726002</td>\n",
              "    </tr>\n",
              "    <tr>\n",
              "      <th>3</th>\n",
              "      <td>DFD2202EE08F7A8DC9A57B02ACB81FE2</td>\n",
              "      <td>51EE87E3205C985EF8431D850C786310</td>\n",
              "      <td>CMT</td>\n",
              "      <td>1</td>\n",
              "      <td>N</td>\n",
              "      <td>2013-01-07 23:54:15</td>\n",
              "      <td>2013-01-07 23:58:20</td>\n",
              "      <td>2</td>\n",
              "      <td>244</td>\n",
              "      <td>0.7</td>\n",
              "      <td>-73.974602</td>\n",
              "      <td>40.759945</td>\n",
              "      <td>-73.984734</td>\n",
              "      <td>40.759388</td>\n",
              "    </tr>\n",
              "    <tr>\n",
              "      <th>4</th>\n",
              "      <td>DFD2202EE08F7A8DC9A57B02ACB81FE2</td>\n",
              "      <td>51EE87E3205C985EF8431D850C786310</td>\n",
              "      <td>CMT</td>\n",
              "      <td>1</td>\n",
              "      <td>N</td>\n",
              "      <td>2013-01-07 23:25:03</td>\n",
              "      <td>2013-01-07 23:34:24</td>\n",
              "      <td>1</td>\n",
              "      <td>560</td>\n",
              "      <td>2.1</td>\n",
              "      <td>-73.976250</td>\n",
              "      <td>40.748528</td>\n",
              "      <td>-74.002586</td>\n",
              "      <td>40.747868</td>\n",
              "    </tr>\n",
              "  </tbody>\n",
              "</table>\n",
              "</div>"
            ],
            "text/plain": [
              "                          medallion  ... dropoff_latitude\n",
              "0  89D227B655E5C82AECF13C3F540D4CF4  ...        40.751171\n",
              "1  0BD7C8F5BA12B88E0B67BED28BEA73D8  ...        40.750660\n",
              "2  0BD7C8F5BA12B88E0B67BED28BEA73D8  ...        40.726002\n",
              "3  DFD2202EE08F7A8DC9A57B02ACB81FE2  ...        40.759388\n",
              "4  DFD2202EE08F7A8DC9A57B02ACB81FE2  ...        40.747868\n",
              "\n",
              "[5 rows x 14 columns]"
            ]
          },
          "metadata": {
            "tags": []
          },
          "execution_count": 15
        }
      ]
    },
    {
      "cell_type": "markdown",
      "metadata": {
        "id": "NNCkOYFepTHn",
        "colab_type": "text"
      },
      "source": [
        "#### 0. Verificar errores\n",
        "Crear un nuevo conjunto de datos con los errores eliminados.\n",
        "\n",
        "Verificar errores en el Dataframe y limpiar los errores nulos y NaN que pudieran afectar al DataFrame."
      ]
    },
    {
      "cell_type": "markdown",
      "metadata": {
        "id": "VD2HTNGNpXEE",
        "colab_type": "text"
      },
      "source": [
        "##### Limpiar data frame"
      ]
    },
    {
      "cell_type": "code",
      "metadata": {
        "id": "XBzBpARxr40H",
        "colab_type": "code",
        "outputId": "9351cb6b-7dd5-4941-fd55-3e7719dc1b07",
        "colab": {
          "base_uri": "https://localhost:8080/",
          "height": 269
        }
      },
      "source": [
        "df.isna().sum()"
      ],
      "execution_count": 0,
      "outputs": [
        {
          "output_type": "execute_result",
          "data": {
            "text/plain": [
              "medallion                   0\n",
              "hack_license                0\n",
              "vendor_id                   0\n",
              "rate_code                   0\n",
              "store_and_fwd_flag    7326207\n",
              "pickup_datetime             0\n",
              "dropoff_datetime            0\n",
              "passenger_count             0\n",
              "trip_time_in_secs           0\n",
              "trip_distance               0\n",
              "pickup_longitude            0\n",
              "pickup_latitude             0\n",
              "dropoff_longitude          86\n",
              "dropoff_latitude           86\n",
              "dtype: int64"
            ]
          },
          "metadata": {
            "tags": []
          },
          "execution_count": 16
        }
      ]
    },
    {
      "cell_type": "code",
      "metadata": {
        "id": "5Nw5K-UXtdA1",
        "colab_type": "code",
        "colab": {}
      },
      "source": [
        "df = df.dropna(how='all', subset=['dropoff_longitude', 'dropoff_latitude'])"
      ],
      "execution_count": 0,
      "outputs": []
    },
    {
      "cell_type": "markdown",
      "metadata": {
        "id": "jz8mTMK2ymiX",
        "colab_type": "text"
      },
      "source": [
        "##### Eliminar columnas"
      ]
    },
    {
      "cell_type": "code",
      "metadata": {
        "id": "eykj7wQ-yoNz",
        "colab_type": "code",
        "colab": {}
      },
      "source": [
        "df = df.drop('store_and_fwd_flag', axis=1)"
      ],
      "execution_count": 0,
      "outputs": []
    },
    {
      "cell_type": "code",
      "metadata": {
        "id": "4-RoOGjLtjH6",
        "colab_type": "code",
        "outputId": "8db955d5-4dc4-4a2c-9b59-24ceddb542a5",
        "colab": {
          "base_uri": "https://localhost:8080/",
          "height": 252
        }
      },
      "source": [
        "df.isna().sum()"
      ],
      "execution_count": 0,
      "outputs": [
        {
          "output_type": "execute_result",
          "data": {
            "text/plain": [
              "medallion            0\n",
              "hack_license         0\n",
              "vendor_id            0\n",
              "rate_code            0\n",
              "pickup_datetime      0\n",
              "dropoff_datetime     0\n",
              "passenger_count      0\n",
              "trip_time_in_secs    0\n",
              "trip_distance        0\n",
              "pickup_longitude     0\n",
              "pickup_latitude      0\n",
              "dropoff_longitude    0\n",
              "dropoff_latitude     0\n",
              "dtype: int64"
            ]
          },
          "metadata": {
            "tags": []
          },
          "execution_count": 19
        }
      ]
    },
    {
      "cell_type": "markdown",
      "metadata": {
        "id": "VgEU8tgIA6h2",
        "colab_type": "text"
      },
      "source": [
        "**Al limpiar el resultado** es igual a:\n",
        "\n",
        "14776529 registros y 13 columnas/variables."
      ]
    },
    {
      "cell_type": "code",
      "metadata": {
        "id": "P6qlrJGAtCsF",
        "colab_type": "code",
        "outputId": "a9e6825d-87d5-4509-d752-41e63f74d015",
        "colab": {
          "base_uri": "https://localhost:8080/",
          "height": 34
        }
      },
      "source": [
        "df.shape"
      ],
      "execution_count": 0,
      "outputs": [
        {
          "output_type": "execute_result",
          "data": {
            "text/plain": [
              "(14776529, 13)"
            ]
          },
          "metadata": {
            "tags": []
          },
          "execution_count": 20
        }
      ]
    },
    {
      "cell_type": "markdown",
      "metadata": {
        "id": "QmpNHvPv_FPd",
        "colab_type": "text"
      },
      "source": [
        "#### 5.1 Indicar el tiempo en segundos, que  tarda la libreria `pandas` en leer un archivo a un  `DataFrame."
      ]
    },
    {
      "cell_type": "code",
      "metadata": {
        "id": "1NFRFjJc_J-G",
        "colab_type": "code",
        "outputId": "c95f6f6b-a722-4523-caff-ae64063e20b8",
        "colab": {
          "base_uri": "https://localhost:8080/",
          "height": 34
        }
      },
      "source": [
        "print('Tiemo de lectura: {} s'.format(t_end - t_start))"
      ],
      "execution_count": 0,
      "outputs": [
        {
          "output_type": "stream",
          "text": [
            "Tiemo de lectura: 102.31801748275757 s\n"
          ],
          "name": "stdout"
        }
      ]
    },
    {
      "cell_type": "markdown",
      "metadata": {
        "id": "SVqLnuuR_Mf6",
        "colab_type": "text"
      },
      "source": [
        "#### 5.2 Cual es la huella de memoria del proceso usado para generar el objeto `DataFrame."
      ]
    },
    {
      "cell_type": "code",
      "metadata": {
        "id": "08Cspbke_MAw",
        "colab_type": "code",
        "outputId": "aba32467-da36-4afe-d9c4-53eef7e42f8c",
        "colab": {
          "base_uri": "https://localhost:8080/",
          "height": 34
        }
      },
      "source": [
        "print('Huella de memoria: {} MB'.format(mem_despues - mem_antes))"
      ],
      "execution_count": 0,
      "outputs": [
        {
          "output_type": "stream",
          "text": [
            "Huella de memoria: 4962.84765625 MB\n"
          ],
          "name": "stdout"
        }
      ]
    },
    {
      "cell_type": "markdown",
      "metadata": {
        "id": "i1RWse3G_T5C",
        "colab_type": "text"
      },
      "source": [
        "#### 5.3 Cuanta memoria del sistema se usa para crear el objeto anterior."
      ]
    },
    {
      "cell_type": "markdown",
      "metadata": {
        "id": "WOY2_VkcEcT4",
        "colab_type": "text"
      },
      "source": [
        "_En colaboración con **David Cobos**_"
      ]
    },
    {
      "cell_type": "code",
      "metadata": {
        "id": "37GIX68G_cMd",
        "colab_type": "code",
        "outputId": "93c8f9e4-2e8c-4db4-8e4a-c8539637f162",
        "colab": {
          "base_uri": "https://localhost:8080/",
          "height": 34
        }
      },
      "source": [
        "print('Memoria del sistema: {} MB'.format(huella_memoria()))"
      ],
      "execution_count": 0,
      "outputs": [
        {
          "output_type": "stream",
          "text": [
            "Memoria del sistema: 6348.74609375 MB\n"
          ],
          "name": "stdout"
        }
      ]
    },
    {
      "cell_type": "markdown",
      "metadata": {
        "id": "tklFRbNt_WPH",
        "colab_type": "text"
      },
      "source": [
        "#### 5.4 Indicar el tiempo que tarda `pandas` en obtener el promedio de la distancia de viaje (`trip_distance`)."
      ]
    },
    {
      "cell_type": "markdown",
      "metadata": {
        "id": "3wv9TWp7DBYc",
        "colab_type": "text"
      },
      "source": [
        "_En colaboración con **Alexis Martínez**_"
      ]
    },
    {
      "cell_type": "code",
      "metadata": {
        "id": "H5_brFCX_ygk",
        "colab_type": "code",
        "colab": {}
      },
      "source": [
        "# Tiempo y memoria\n",
        "t_start = time.time()\n",
        "mem_antes = huella_memoria()\n",
        "\n",
        "no_ceros = (df['trip_distance'] != 0)\n",
        "promedio_total_distancia_viaje = no_ceros.mean()\n",
        "\n",
        "# Tiempo y memoria\n",
        "mem_despues = huella_memoria()\n",
        "t_end = time.time()"
      ],
      "execution_count": 0,
      "outputs": []
    },
    {
      "cell_type": "code",
      "metadata": {
        "id": "0g_5JMnA_co_",
        "colab_type": "code",
        "outputId": "28824a20-b74f-4a15-c556-338826afbc9d",
        "colab": {
          "base_uri": "https://localhost:8080/",
          "height": 34
        }
      },
      "source": [
        "print('Tiemo de lectura: {} s'.format(t_end - t_start))\n",
        "# print('Uso de memoria: {} MB'.format(mem_despues - mem_antes))"
      ],
      "execution_count": 0,
      "outputs": [
        {
          "output_type": "stream",
          "text": [
            "Tiemo de lectura: 0.0654911994934082 s\n"
          ],
          "name": "stdout"
        }
      ]
    },
    {
      "cell_type": "code",
      "metadata": {
        "id": "R7kiCjFZ7NCc",
        "colab_type": "code",
        "outputId": "3770e752-74b6-46a6-f8f0-3f3f60d7cabd",
        "colab": {
          "base_uri": "https://localhost:8080/",
          "height": 121
        }
      },
      "source": [
        "# Run this cell to mount your Google Drive.\n",
        "from google.colab import drive\n",
        "drive.mount('/content/drive')"
      ],
      "execution_count": 0,
      "outputs": [
        {
          "output_type": "stream",
          "text": [
            "Go to this URL in a browser: https://accounts.google.com/o/oauth2/auth?client_id=947318989803-6bn6qk8qdgf4n4g3pfee6491hc0brc4i.apps.googleusercontent.com&redirect_uri=urn%3Aietf%3Awg%3Aoauth%3A2.0%3Aoob&scope=email%20https%3A%2F%2Fwww.googleapis.com%2Fauth%2Fdocs.test%20https%3A%2F%2Fwww.googleapis.com%2Fauth%2Fdrive%20https%3A%2F%2Fwww.googleapis.com%2Fauth%2Fdrive.photos.readonly%20https%3A%2F%2Fwww.googleapis.com%2Fauth%2Fpeopleapi.readonly&response_type=code\n",
            "\n",
            "Enter your authorization code:\n",
            "··········\n",
            "Mounted at /content/drive\n"
          ],
          "name": "stdout"
        }
      ]
    },
    {
      "cell_type": "markdown",
      "metadata": {
        "id": "nKHJaugLo5gJ",
        "colab_type": "text"
      },
      "source": [
        "## Pandas Versión 2\n",
        "Para todos los archivos."
      ]
    },
    {
      "cell_type": "markdown",
      "metadata": {
        "id": "3_fu6kVqmrWY",
        "colab_type": "text"
      },
      "source": [
        "### Ejecución"
      ]
    },
    {
      "cell_type": "markdown",
      "metadata": {
        "id": "5CW1G3wdvsCZ",
        "colab_type": "text"
      },
      "source": [
        "#### Obtener los datos\n",
        "Descargar, descomprimir y transformar los datos."
      ]
    },
    {
      "cell_type": "code",
      "metadata": {
        "id": "Mv-DVBU7k_GI",
        "colab_type": "code",
        "outputId": "68422e75-e08f-4956-8790-3bc0c4a151db",
        "colab": {
          "base_uri": "https://localhost:8080/",
          "height": 34
        }
      },
      "source": [
        "ruta_datos"
      ],
      "execution_count": 38,
      "outputs": [
        {
          "output_type": "execute_result",
          "data": {
            "text/plain": [
              "'/content/gdrive/My Drive/SD/Datos/'"
            ]
          },
          "metadata": {
            "tags": []
          },
          "execution_count": 38
        }
      ]
    },
    {
      "cell_type": "code",
      "metadata": {
        "id": "TGZvE_PkkN23",
        "colab_type": "code",
        "colab": {}
      },
      "source": [
        "if not os.path.exists(ruta_principal + \"temp\"):\n",
        "    os.mkdir(ruta_principal + \"temp\")"
      ],
      "execution_count": 0,
      "outputs": []
    },
    {
      "cell_type": "markdown",
      "metadata": {
        "id": "4IWe7x_-m5T1",
        "colab_type": "text"
      },
      "source": [
        "Carga los datos al disco. Anteriormente descomprimía y eliminaba columnas de los datasets de memoria, pero debido al tiempo que tomaba se decidió tomar la aproximación de _Adrian Sosa_ para llevar a cabo estos pasos."
      ]
    },
    {
      "cell_type": "code",
      "metadata": {
        "id": "ysBUv9AkJA6Y",
        "colab_type": "code",
        "colab": {}
      },
      "source": [
        "def cargar_nuevos_csv(k):\n",
        "    ''' Función que permite descomprimir y limpiar los archivos usando Pandas '''\n",
        "    archivo = k[2]\n",
        "    \n",
        "    #if not os.path.exists(archivo):\n",
        "        #os.system(k[1])\n",
        "        \n",
        "    try:\n",
        "        df = pd.read_csv(archivo, usecols=[\"medallion\",  \"pickup_datetime\", \"dropoff_datetime\", \"passenger_count\", \"trip_time_in_secs\", \"trip_distance\", \"pickup_longitude\", \"pickup_latitude\", \"dropoff_longitude\", \"dropoff_latitude\"])\n",
        "    except :\n",
        "        pass\n",
        "    try:\n",
        "        df = pd.read_csv(archivo, usecols=[\"medallion\",  \" pickup_datetime\", \" dropoff_datetime\", \" passenger_count\", \" trip_time_in_secs\", \" trip_distance\", \" pickup_longitude\", \" pickup_latitude\", \" dropoff_longitude\", \" dropoff_latitude\"])\n",
        "    except :\n",
        "        pass\n",
        "        \n",
        "    # df = pd.read_csv(archivo, dtype=\"str\")\n",
        "    df.columns = df.columns.str.strip()\n",
        "    forma = df.shape\n",
        "    \n",
        "    # Se eliminan las columnas\n",
        "    '''\n",
        "    df = df.drop('hack_license', axis=1)\n",
        "    df = df.drop('vendor_id', axis=1)\n",
        "    df = df.drop('rate_code', axis=1)\n",
        "    df = df.drop('store_and_fwd_flag', axis=1)\n",
        "    '''\n",
        "    df = df.dropna(how='all', subset=['dropoff_longitude', 'dropoff_latitude', 'passenger_count', 'trip_distance', \"pickup_longitude\", \"pickup_latitude\", \"dropoff_longitude\", \"dropoff_latitude\"])\n",
        "    \n",
        "    # Convierte datos\n",
        "    '''\n",
        "    df['pickup_datetime'] = pd.to_datetime(df['pickup_datetime'])\n",
        "    df['dropoff_datetime'] = pd.to_datetime(df['dropoff_datetime'])\n",
        "    df['passenger_count'] = df['passenger_count'].astype(int)\n",
        "    '''\n",
        "    \n",
        "    # Instrucción por Daniel Hernandez\n",
        "    df = df.drop(df[df.passenger_count > 9].index)\n",
        "    df = df.drop(df[df.passenger_count <= 0].index)\n",
        "    df = df.drop(df[df.trip_distance <= 0].index)\n",
        "    df = df.drop(df[df.trip_distance > 5000].index)\n",
        "    \n",
        "    '''df = df.drop(df[abs(df.pickup_longitude)>180].index)\n",
        "    df = df.drop(df[abs(df.pickup_latitude)>90].index)\n",
        "    df = df.drop(df[abs(df.dropoff_longitude)>180].index)\n",
        "    df = df.drop(df[abs(df.dropoff_latitude)>90].index)'''\n",
        "    \n",
        "    # df['trip_time_in_secs'] = df['trip_time_in_secs'].astype(float)\n",
        "    \n",
        "    # Elimina cualquier archivo existente\n",
        "    if os.path.exists(k[0]):\n",
        "        os.remove(k[0])\n",
        "    \n",
        "    df.to_csv(k[0])\n",
        "    \n",
        "    # os.remove(archivo)\n",
        "    \n",
        "    df = None\n",
        "    return forma"
      ],
      "execution_count": 0,
      "outputs": []
    },
    {
      "cell_type": "markdown",
      "metadata": {
        "id": "BKKAZzzrvM3-",
        "colab_type": "text"
      },
      "source": [
        "_**Ejecutar únicamente si no se tienen los archivos**_"
      ]
    },
    {
      "cell_type": "code",
      "metadata": {
        "id": "gFWpcDZYgp99",
        "colab_type": "code",
        "outputId": "1b4875bd-3300-44ab-948d-6c706c433040",
        "colab": {
          "base_uri": "https://localhost:8080/",
          "height": 54
        }
      },
      "source": [
        "formas = []\n",
        "for k in ac:\n",
        "    forma = cargar_nuevos_csv(k)\n",
        "    formas.append(forma)\n",
        "    \n",
        "print(os.listdir(ruta_datos))"
      ],
      "execution_count": 0,
      "outputs": [
        {
          "output_type": "stream",
          "text": [
            "['trip_data_1.csv', 'trip_data_2.csv', 'trip_data_3.csv', 'trip_data_4.csv', 'trip_data_5.csv', 'trip_data_6.csv', 'trip_data_7.csv', 'trip_data_8.csv', 'trip_data_9.csv', 'trip_data_10.csv', 'trip_data_11.csv', 'trip_data_12.csv']\n"
          ],
          "name": "stdout"
        }
      ]
    },
    {
      "cell_type": "markdown",
      "metadata": {
        "id": "EDpujn-Ev3ey",
        "colab_type": "text"
      },
      "source": [
        "#### Obtener DataFrames\n",
        "Dataframes de los primeros 4 archivos\n",
        "1. Indicar el tiempo en segundos, que  tarda la libreria `pandas` en leer un archivo a un  `DataFrame`\n",
        "2. Cual es la huella de memoria del proceso usado para generar el objeto `DataFrame`\n",
        "2. Cuanta memoria del sistema se usa para crear el objeto anterior\n",
        "3. Indicar el tiempo que tarda `pandas` en obtener el promedio de la distancia de viaje (`trip_distance`)"
      ]
    },
    {
      "cell_type": "code",
      "metadata": {
        "id": "FdVeAJq6v7fh",
        "colab_type": "code",
        "colab": {}
      },
      "source": [
        "tiempos_carga = []\n",
        "memoria_carga = []\n",
        "resultado_prom_pandas = []\n",
        "tiempos_prom_pandas = []"
      ],
      "execution_count": 0,
      "outputs": []
    },
    {
      "cell_type": "code",
      "metadata": {
        "id": "6a-RIUia1Js1",
        "colab_type": "code",
        "colab": {}
      },
      "source": [
        "for archivo in ac:\n",
        "    t_start = time.time()\n",
        "    mem_antes = huella_memoria()\n",
        "    \n",
        "    df = pd.read_csv(archivo[0])\n",
        "    \n",
        "    t_end = time.time()\n",
        "    mem_despues = huella_memoria()\n",
        "    memoria_carga.append(mem_despues - mem_antes)\n",
        "    tiempos_carga.append(t_end - t_start)\n",
        "    \n",
        "    t_start = time.time()\n",
        "    prom = df['trip_distance'].mean()\n",
        "    resultado_prom_pandas.append(prom)\n",
        "    t_end = time.time()\n",
        "    tiempos_prom_pandas.append(t_end - t_start)\n",
        "    \n",
        "    df = None"
      ],
      "execution_count": 0,
      "outputs": []
    },
    {
      "cell_type": "markdown",
      "metadata": {
        "id": "goorMxVeZnQS",
        "colab_type": "text"
      },
      "source": [
        "### Resultados\n",
        "A la carga de 12 archivos en Pandas Dataframes"
      ]
    },
    {
      "cell_type": "code",
      "metadata": {
        "id": "N-dB1xQbYx-y",
        "colab_type": "code",
        "outputId": "8d330512-615f-4854-ff31-3b84a84d7b05",
        "colab": {
          "base_uri": "https://localhost:8080/",
          "height": 1000
        }
      },
      "source": [
        "resp_template = (\"Para el mes {0}, el promedio de la distancia de viaje \\\"trip_distance\\\" es de {1} millas.\\n\" +\n",
        "                 \"El DataFrame cuenta con 2 dimensiones, {5} registros y {6} columnas tras la limpieza que se realizó en la carga del archivo al disco duro.\\n\" + \n",
        "                 \"El proceso utilizó {2} MB de memoria.\\nTomó {3} s en cargarse el DataFrame y {4} en obtener el promedio.\\n\")\n",
        "for i in range(len(resultado_prom_pandas)):\n",
        "    print(resp_template.format(i + 1, round(resultado_prom_pandas[i], 4), memoria_carga[i], round(tiempos_carga[i], 2), round(tiempos_prom_pandas[i], 2), formas[i][0], formas[i][1]))"
      ],
      "execution_count": 0,
      "outputs": [
        {
          "output_type": "stream",
          "text": [
            "Para el mes 1, el promedio de la distancia de viaje \"trip_distance\" es de 2.7867 millas.\n",
            "El DataFrame cuenta con 2 dimensiones, 14776615 registros y 10 columnas tras la limpieza que se realizó en la carga del archivo al disco duro.\n",
            "El proceso utilizó -304.89453125 MB de memoria.\n",
            "Tomó 49.28 s en cargarse el DataFrame y 0.03 en obtener el promedio.\n",
            "\n",
            "Para el mes 2, el promedio de la distancia de viaje \"trip_distance\" es de 2.7561 millas.\n",
            "El DataFrame cuenta con 2 dimensiones, 13990176 registros y 10 columnas tras la limpieza que se realizó en la carga del archivo al disco duro.\n",
            "El proceso utilizó 222.80078125 MB de memoria.\n",
            "Tomó 46.64 s en cargarse el DataFrame y 0.02 en obtener el promedio.\n",
            "\n",
            "Para el mes 3, el promedio de la distancia de viaje \"trip_distance\" es de 2.8567 millas.\n",
            "El DataFrame cuenta con 2 dimensiones, 15749228 registros y 10 columnas tras la limpieza que se realizó en la carga del archivo al disco duro.\n",
            "El proceso utilizó 822.39453125 MB de memoria.\n",
            "Tomó 52.09 s en cargarse el DataFrame y 0.03 en obtener el promedio.\n",
            "\n",
            "Para el mes 4, el promedio de la distancia de viaje \"trip_distance\" es de 2.8843 millas.\n",
            "El DataFrame cuenta con 2 dimensiones, 15100468 registros y 10 columnas tras la limpieza que se realizó en la carga del archivo al disco duro.\n",
            "El proceso utilizó 695.23828125 MB de memoria.\n",
            "Tomó 50.6 s en cargarse el DataFrame y 0.02 en obtener el promedio.\n",
            "\n",
            "Para el mes 5, el promedio de la distancia de viaje \"trip_distance\" es de 2.9421 millas.\n",
            "El DataFrame cuenta con 2 dimensiones, 15285049 registros y 10 columnas tras la limpieza que se realizó en la carga del archivo al disco duro.\n",
            "El proceso utilizó 600.578125 MB de memoria.\n",
            "Tomó 47.97 s en cargarse el DataFrame y 0.02 en obtener el promedio.\n",
            "\n",
            "Para el mes 6, el promedio de la distancia de viaje \"trip_distance\" es de 2.9561 millas.\n",
            "El DataFrame cuenta con 2 dimensiones, 14385456 registros y 10 columnas tras la limpieza que se realizó en la carga del archivo al disco duro.\n",
            "El proceso utilizó 470.61328125 MB de memoria.\n",
            "Tomó 46.02 s en cargarse el DataFrame y 0.02 en obtener el promedio.\n",
            "\n",
            "Para el mes 7, el promedio de la distancia de viaje \"trip_distance\" es de 2.9207 millas.\n",
            "El DataFrame cuenta con 2 dimensiones, 13823840 registros y 10 columnas tras la limpieza que se realizó en la carga del archivo al disco duro.\n",
            "El proceso utilizó 551.328125 MB de memoria.\n",
            "Tomó 41.96 s en cargarse el DataFrame y 0.02 en obtener el promedio.\n",
            "\n",
            "Para el mes 8, el promedio de la distancia de viaje \"trip_distance\" es de 3.0482 millas.\n",
            "El DataFrame cuenta con 2 dimensiones, 12597109 registros y 10 columnas tras la limpieza que se realizó en la carga del archivo al disco duro.\n",
            "El proceso utilizó 646.12109375 MB de memoria.\n",
            "Tomó 38.03 s en cargarse el DataFrame y 0.02 en obtener el promedio.\n",
            "\n",
            "Para el mes 9, el promedio de la distancia de viaje \"trip_distance\" es de 3.0001 millas.\n",
            "El DataFrame cuenta con 2 dimensiones, 14107693 registros y 10 columnas tras la limpieza que se realizó en la carga del archivo al disco duro.\n",
            "El proceso utilizó 917.25390625 MB de memoria.\n",
            "Tomó 43.6 s en cargarse el DataFrame y 0.02 en obtener el promedio.\n",
            "\n",
            "Para el mes 10, el promedio de la distancia de viaje \"trip_distance\" es de 2.9653 millas.\n",
            "El DataFrame cuenta con 2 dimensiones, 15004556 registros y 10 columnas tras la limpieza que se realizó en la carga del archivo al disco duro.\n",
            "El proceso utilizó 1062.13671875 MB de memoria.\n",
            "Tomó 44.99 s en cargarse el DataFrame y 0.02 en obtener el promedio.\n",
            "\n",
            "Para el mes 11, el promedio de la distancia de viaje \"trip_distance\" es de 2.8899 millas.\n",
            "El DataFrame cuenta con 2 dimensiones, 14388451 registros y 10 columnas tras la limpieza que se realizó en la carga del archivo al disco duro.\n",
            "El proceso utilizó 816.8984375 MB de memoria.\n",
            "Tomó 43.37 s en cargarse el DataFrame y 0.02 en obtener el promedio.\n",
            "\n",
            "Para el mes 12, el promedio de la distancia de viaje \"trip_distance\" es de 2.941 millas.\n",
            "El DataFrame cuenta con 2 dimensiones, 13971118 registros y 10 columnas tras la limpieza que se realizó en la carga del archivo al disco duro.\n",
            "El proceso utilizó 395.296875 MB de memoria.\n",
            "Tomó 39.26 s en cargarse el DataFrame y 0.02 en obtener el promedio.\n",
            "\n"
          ],
          "name": "stdout"
        }
      ]
    },
    {
      "cell_type": "markdown",
      "metadata": {
        "id": "mCVXjO_pk3CS",
        "colab_type": "text"
      },
      "source": [
        "## 6. Dask"
      ]
    },
    {
      "cell_type": "markdown",
      "metadata": {
        "id": "DboGvWJzg4q5",
        "colab_type": "text"
      },
      "source": [
        "Todos los pasos siguientes deben **realizarse** usando la libreria `dask`\n",
        "   3. Indicar el tiempo que tarda en obtener el promedio de la distancia de viaje (`trip_distance`)\n",
        "   3. Indicar el tiempo que tarda en obtener el promedio de la duracion de viaje (`trip_time_in_secs`)\n",
        "   4. Con las columnas `pickup_datetime` y `dropoff_datetime` como objetos temporales, crear una nueva columna en los dataframes que se llame `duracion` y compararla renglon a renglon con la columna `trip_time_in_secs`\n",
        "   5. Definir un `viaje_largo` como aquellos en los que la duracion del viaje (`trip_time_in_secs`) sea mayor a 20 minutos."
      ]
    },
    {
      "cell_type": "markdown",
      "metadata": {
        "id": "k5XabtILuGhR",
        "colab_type": "text"
      },
      "source": [
        "### Ejecución"
      ]
    },
    {
      "cell_type": "code",
      "metadata": {
        "id": "rU0eJvlIA5Mf",
        "colab_type": "code",
        "colab": {
          "base_uri": "https://localhost:8080/",
          "height": 34
        },
        "outputId": "50fd237c-7a01-44f0-bda5-f9142856ef89"
      },
      "source": [
        "ruta_datos"
      ],
      "execution_count": 14,
      "outputs": [
        {
          "output_type": "execute_result",
          "data": {
            "text/plain": [
              "'/content/gdrive/My Drive/SD/Datos/'"
            ]
          },
          "metadata": {
            "tags": []
          },
          "execution_count": 14
        }
      ]
    },
    {
      "cell_type": "code",
      "metadata": {
        "id": "k0htfHfg9icP",
        "colab_type": "code",
        "colab": {}
      },
      "source": [
        "f = ruta_datos + \"*.csv\" # Todos los archivos\n",
        "# f = ruta_datos + \"trip_data_7.csv\" # 1 archivo\n",
        "# f = '/content/gdrive/My Drive/SD/Training/*.csv'"
      ],
      "execution_count": 0,
      "outputs": []
    },
    {
      "cell_type": "code",
      "metadata": {
        "id": "Nvchfa0K9OTU",
        "colab_type": "code",
        "colab": {}
      },
      "source": [
        "ddf = dd.read_csv(f, assume_missing=True, include_path_column=True)"
      ],
      "execution_count": 0,
      "outputs": []
    },
    {
      "cell_type": "markdown",
      "metadata": {
        "id": "iyYhSIORx7JI",
        "colab_type": "text"
      },
      "source": [
        "Con las columnas `pickup_datetime` y `dropoff_datetime` como objetos temporales, crear una nueva columna en los dataframes que se llame duracion y compararla renglon a renglon con la columna `trip_time_in_secs`."
      ]
    },
    {
      "cell_type": "code",
      "metadata": {
        "id": "nDTzQgwVmXtr",
        "colab_type": "code",
        "outputId": "f076b686-c50d-426d-bd36-bf7b3e556c54",
        "colab": {
          "base_uri": "https://localhost:8080/",
          "height": 54
        }
      },
      "source": [
        "# pickup_datetime y dropoff_datetime\n",
        "ddf['pickup_datetime'] = dd.to_datetime(ddf['pickup_datetime'])\n",
        "ddf['dropoff_datetime'] = dd.to_datetime(ddf['dropoff_datetime'])\n",
        "ddf['duracion'] = ddf['dropoff_datetime'] - ddf['pickup_datetime']\n",
        "'''ddf['trip_time_in_secs'] = ddf['trip_time_in_secs'].astype(float)\n",
        "ddf['pickup_longitude'] = ddf['pickup_longitude'].astype(float)\n",
        "ddf['pickup_latitude'] = ddf['pickup_latitude'].astype(float)\n",
        "ddf['dropoff_longitude'] = ddf['dropoff_longitude'].astype(float)\n",
        "ddf['dropoff_latitude'] = ddf['dropoff_latitude'].astype(float)'''"
      ],
      "execution_count": 17,
      "outputs": [
        {
          "output_type": "execute_result",
          "data": {
            "text/plain": [
              "\"ddf['trip_time_in_secs'] = ddf['trip_time_in_secs'].astype(float)\\nddf['pickup_longitude'] = ddf['pickup_longitude'].astype(float)\\nddf['pickup_latitude'] = ddf['pickup_latitude'].astype(float)\\nddf['dropoff_longitude'] = ddf['dropoff_longitude'].astype(float)\\nddf['dropoff_latitude'] = ddf['dropoff_latitude'].astype(float)\""
            ]
          },
          "metadata": {
            "tags": []
          },
          "execution_count": 17
        }
      ]
    },
    {
      "cell_type": "code",
      "metadata": {
        "id": "n-fgdXoow_RS",
        "colab_type": "code",
        "colab": {}
      },
      "source": [
        "pdv = []\n",
        "def promedio_distancia_viaje(data):\n",
        "    data['trip_distance'] = data['trip_distance'].astype(float)\n",
        "    prom_trip_distance = data['trip_distance'].mean()\n",
        "    return prom_trip_distance"
      ],
      "execution_count": 0,
      "outputs": []
    },
    {
      "cell_type": "code",
      "metadata": {
        "id": "fujj4Q-CNzIL",
        "colab_type": "code",
        "colab": {}
      },
      "source": [
        "t_start = time.time()\n",
        "\n",
        "prom_distancia = promedio_distancia_viaje(ddf).compute()\n",
        "\n",
        "t_end = time.time()\n",
        "tiempo_prom_distancia = t_end - t_start"
      ],
      "execution_count": 0,
      "outputs": []
    },
    {
      "cell_type": "code",
      "metadata": {
        "id": "nIlAqzRZyLYi",
        "colab_type": "code",
        "outputId": "51cf7595-d4d1-4155-f0b1-dab4cc19b86d",
        "colab": {
          "base_uri": "https://localhost:8080/",
          "height": 35
        }
      },
      "source": [
        "print(prom_distancia)"
      ],
      "execution_count": 0,
      "outputs": [
        {
          "output_type": "stream",
          "text": [
            "2.9104131224134795\n"
          ],
          "name": "stdout"
        }
      ]
    },
    {
      "cell_type": "code",
      "metadata": {
        "id": "jJDglv8XxRo8",
        "colab_type": "code",
        "colab": {}
      },
      "source": [
        "def promedio_tiempo_segundos(data):\n",
        "    prom_trip_time_in_secs = data['trip_time_in_secs'].mean()\n",
        "    return prom_trip_time_in_secs"
      ],
      "execution_count": 0,
      "outputs": []
    },
    {
      "cell_type": "code",
      "metadata": {
        "id": "zjDXrem4xx96",
        "colab_type": "code",
        "colab": {}
      },
      "source": [
        "t_start = time.time()\n",
        "\n",
        "prom_tiempo = promedio_tiempo_segundos(ddf).compute()\n",
        "\n",
        "t_end = time.time()\n",
        "tiempo_prom_tiempo = t_end - t_start"
      ],
      "execution_count": 0,
      "outputs": []
    },
    {
      "cell_type": "code",
      "metadata": {
        "id": "yiClMCaoyOTc",
        "colab_type": "code",
        "outputId": "505aff70-ddf5-4e01-80a9-b56e5f6028c9",
        "colab": {
          "base_uri": "https://localhost:8080/",
          "height": 35
        }
      },
      "source": [
        "print(prom_tiempo)"
      ],
      "execution_count": 0,
      "outputs": [
        {
          "output_type": "stream",
          "text": [
            "814.4180595949854\n"
          ],
          "name": "stdout"
        }
      ]
    },
    {
      "cell_type": "markdown",
      "metadata": {
        "id": "6fZblw79x4-V",
        "colab_type": "text"
      },
      "source": [
        "_No entendí este punto. Sí entendí que había que comparar los valores, pero no sé dónde almacenarlos._"
      ]
    },
    {
      "cell_type": "code",
      "metadata": {
        "id": "-jQcnVUBy6ir",
        "colab_type": "code",
        "colab": {}
      },
      "source": [
        "# Pendiente: compararla renglon a renglon con la columna `trip_time_in_secs`\n",
        "import datetime"
      ],
      "execution_count": 0,
      "outputs": []
    },
    {
      "cell_type": "code",
      "metadata": {
        "id": "yy2-txwvt9yj",
        "colab_type": "code",
        "outputId": "bff27c97-0f4f-4cf3-c511-fc8668428dbd",
        "colab": {
          "base_uri": "https://localhost:8080/",
          "height": 34
        }
      },
      "source": [
        "a = datetime.timedelta(seconds=3)\n",
        "print(a)"
      ],
      "execution_count": 0,
      "outputs": [
        {
          "output_type": "stream",
          "text": [
            "0:00:03\n"
          ],
          "name": "stdout"
        }
      ]
    },
    {
      "cell_type": "code",
      "metadata": {
        "id": "NzUrt4ckuDz2",
        "colab_type": "code",
        "colab": {}
      },
      "source": [
        "diferencias = ddf[ddf['trip_time_in_secs'] != ddf['duracion']]"
      ],
      "execution_count": 0,
      "outputs": []
    },
    {
      "cell_type": "code",
      "metadata": {
        "id": "gQZ96QIYvXh9",
        "colab_type": "code",
        "colab": {}
      },
      "source": [
        "total_diferencias = diferencias.count().compute()"
      ],
      "execution_count": 0,
      "outputs": []
    },
    {
      "cell_type": "code",
      "metadata": {
        "id": "LFYALYSkziE9",
        "colab_type": "code",
        "colab": {}
      },
      "source": [
        "total_diferencias = total_diferencias.trip_distance"
      ],
      "execution_count": 0,
      "outputs": []
    },
    {
      "cell_type": "markdown",
      "metadata": {
        "id": "OutyTbiRyAbE",
        "colab_type": "text"
      },
      "source": [
        "Obtener viajes largos"
      ]
    },
    {
      "cell_type": "code",
      "metadata": {
        "id": "NQO71qaC1uqe",
        "colab_type": "code",
        "colab": {}
      },
      "source": [
        "viajes_largos = ddf[ddf.trip_time_in_secs > 1200]"
      ],
      "execution_count": 0,
      "outputs": []
    },
    {
      "cell_type": "code",
      "metadata": {
        "id": "IQAnx1n-PX1S",
        "colab_type": "code",
        "outputId": "27c580ce-8622-41dc-8aef-386f2b88bf8a",
        "colab": {
          "base_uri": "https://localhost:8080/",
          "height": 34
        }
      },
      "source": [
        "prom.compute()"
      ],
      "execution_count": 0,
      "outputs": [
        {
          "output_type": "execute_result",
          "data": {
            "text/plain": [
              "2.8060248225266404"
            ]
          },
          "metadata": {
            "tags": []
          },
          "execution_count": 87
        }
      ]
    },
    {
      "cell_type": "code",
      "metadata": {
        "id": "paa9ExJQifdB",
        "colab_type": "code",
        "colab": {}
      },
      "source": [
        "size_vl = viajes_largos.count().compute()"
      ],
      "execution_count": 0,
      "outputs": []
    },
    {
      "cell_type": "code",
      "metadata": {
        "id": "iQ5U5BAQpIq5",
        "colab_type": "code",
        "colab": {}
      },
      "source": [
        "ppd = pd.read_csv('/content/gdrive/My Drive/SD/temp/trip_data_7.csv')"
      ],
      "execution_count": 0,
      "outputs": []
    },
    {
      "cell_type": "code",
      "metadata": {
        "id": "82_t_PSXpRl5",
        "colab_type": "code",
        "outputId": "e339dd1d-96d2-432d-afa5-e8469998e136",
        "colab": {
          "base_uri": "https://localhost:8080/",
          "height": 34
        }
      },
      "source": [
        "f"
      ],
      "execution_count": 0,
      "outputs": [
        {
          "output_type": "execute_result",
          "data": {
            "text/plain": [
              "'/content/gdrive/My Drive/SD/Datos/trip_data_7.csv'"
            ]
          },
          "metadata": {
            "tags": []
          },
          "execution_count": 52
        }
      ]
    },
    {
      "cell_type": "code",
      "metadata": {
        "id": "2U-RveE6pNzB",
        "colab_type": "code",
        "outputId": "80852b70-46c8-4529-fe6a-90785142600a",
        "colab": {
          "base_uri": "https://localhost:8080/",
          "height": 64
        }
      },
      "source": [
        "ppd"
      ],
      "execution_count": 0,
      "outputs": [
        {
          "output_type": "execute_result",
          "data": {
            "text/html": [
              "<div>\n",
              "<style scoped>\n",
              "    .dataframe tbody tr th:only-of-type {\n",
              "        vertical-align: middle;\n",
              "    }\n",
              "\n",
              "    .dataframe tbody tr th {\n",
              "        vertical-align: top;\n",
              "    }\n",
              "\n",
              "    .dataframe thead th {\n",
              "        text-align: right;\n",
              "    }\n",
              "</style>\n",
              "<table border=\"1\" class=\"dataframe\">\n",
              "  <thead>\n",
              "    <tr style=\"text-align: right;\">\n",
              "      <th></th>\n",
              "      <th>Unnamed: 0</th>\n",
              "      <th>medallion</th>\n",
              "      <th>pickup_datetime</th>\n",
              "      <th>dropoff_datetime</th>\n",
              "      <th>passenger_count</th>\n",
              "      <th>trip_time_in_secs</th>\n",
              "      <th>trip_distance</th>\n",
              "      <th>pickup_longitude</th>\n",
              "      <th>pickup_latitude</th>\n",
              "      <th>dropoff_longitude</th>\n",
              "      <th>dropoff_latitude</th>\n",
              "    </tr>\n",
              "  </thead>\n",
              "  <tbody>\n",
              "  </tbody>\n",
              "</table>\n",
              "</div>"
            ],
            "text/plain": [
              "Empty DataFrame\n",
              "Columns: [Unnamed: 0, medallion, pickup_datetime, dropoff_datetime, passenger_count, trip_time_in_secs, trip_distance, pickup_longitude, pickup_latitude, dropoff_longitude, dropoff_latitude]\n",
              "Index: []"
            ]
          },
          "metadata": {
            "tags": []
          },
          "execution_count": 54
        }
      ]
    },
    {
      "cell_type": "code",
      "metadata": {
        "id": "6Tcd2qXOpDBH",
        "colab_type": "code",
        "outputId": "81f3b396-16f7-4e19-e8ff-d946be23a3bb",
        "colab": {
          "base_uri": "https://localhost:8080/",
          "height": 252
        }
      },
      "source": [
        "size_vl"
      ],
      "execution_count": 0,
      "outputs": [
        {
          "output_type": "execute_result",
          "data": {
            "text/plain": [
              "Unnamed: 0           0\n",
              "medallion            0\n",
              "pickup_datetime      0\n",
              "dropoff_datetime     0\n",
              "passenger_count      0\n",
              "trip_time_in_secs    0\n",
              "trip_distance        0\n",
              "pickup_longitude     0\n",
              "pickup_latitude      0\n",
              "dropoff_longitude    0\n",
              "dropoff_latitude     0\n",
              "path                 0\n",
              "duracion             0\n",
              "dtype: int64"
            ]
          },
          "metadata": {
            "tags": []
          },
          "execution_count": 49
        }
      ]
    },
    {
      "cell_type": "code",
      "metadata": {
        "id": "YKtPlslbhXuv",
        "colab_type": "code",
        "outputId": "5e383f4b-6691-4c66-ebb4-7ad3c9cf26a7",
        "colab": {
          "base_uri": "https://localhost:8080/",
          "height": 269
        }
      },
      "source": [
        "size_vl"
      ],
      "execution_count": 0,
      "outputs": [
        {
          "output_type": "execute_result",
          "data": {
            "text/plain": [
              "Unnamed: 0           26518989\n",
              "medallion            26518989\n",
              "pickup_datetime      26518989\n",
              "dropoff_datetime     26518989\n",
              "passenger_count      26518989\n",
              "trip_time_in_secs    26518989\n",
              "trip_distance        26518989\n",
              "pickup_longitude     26518989\n",
              "pickup_latitude      26518989\n",
              "dropoff_longitude    26518989\n",
              "dropoff_latitude     26518989\n",
              "path                 26518989\n",
              "duracion             26518989\n",
              "dtype: int64"
            ]
          },
          "metadata": {
            "tags": []
          },
          "execution_count": 37
        }
      ]
    },
    {
      "cell_type": "markdown",
      "metadata": {
        "id": "IDRoB1_iBNNb",
        "colab_type": "text"
      },
      "source": [
        "### Resultados"
      ]
    },
    {
      "cell_type": "markdown",
      "metadata": {
        "id": "LdaRJswVBYBl",
        "colab_type": "text"
      },
      "source": [
        "Indicar el tiempo que tarda en obtener el promedio de la distancia de viaje  (`trip_distance`)"
      ]
    },
    {
      "cell_type": "code",
      "metadata": {
        "id": "o5C96f3KBMb_",
        "colab_type": "code",
        "outputId": "58fc5c82-9e91-4fee-92d8-480f20b87d41",
        "colab": {
          "base_uri": "https://localhost:8080/",
          "height": 34
        }
      },
      "source": [
        "print(\"El tiempo que Dask toma para procesar el tiempo promedio de la distancia de viaje es de {} s\".format(round(tiempo_prom_distancia, 2)))"
      ],
      "execution_count": 0,
      "outputs": [
        {
          "output_type": "stream",
          "text": [
            "El tiempo que Dask toma para procesar el tiempo promedio de la distancia de viaje es de 511.94 s\n"
          ],
          "name": "stdout"
        }
      ]
    },
    {
      "cell_type": "markdown",
      "metadata": {
        "id": "yBh9nJjfu3ju",
        "colab_type": "text"
      },
      "source": [
        "Indicar el tiempo que tarda en obtener el promedio de la duracion de viaje (trip_time_in_secs)"
      ]
    },
    {
      "cell_type": "code",
      "metadata": {
        "id": "rOYcq-sUu7fs",
        "colab_type": "code",
        "outputId": "abeadd9d-e1bc-4ee9-87ca-636d32b6b830",
        "colab": {
          "base_uri": "https://localhost:8080/",
          "height": 34
        }
      },
      "source": [
        "print(\"El tiempo que Dask toma para procesar el tiempo promedio de la duración de viaje es de {} s\".format(round(tiempo_prom_tiempo, 2)))"
      ],
      "execution_count": 0,
      "outputs": [
        {
          "output_type": "stream",
          "text": [
            "El tiempo que Dask toma para procesar el tiempo promedio de la duración de viaje es de 513.56 s\n"
          ],
          "name": "stdout"
        }
      ]
    },
    {
      "cell_type": "markdown",
      "metadata": {
        "id": "1j_2_hnhvQ0H",
        "colab_type": "text"
      },
      "source": [
        "Con las columnas pickup_datetime y dropoff_datetime como objetos temporales, crear una nueva columna en los dataframes que se llame duracion y compararla renglon a renglon con la columna `trip_time_in_secs`.\n",
        "\n",
        "_Interpretación de la comparación en colaboración con Adrian Sosa_"
      ]
    },
    {
      "cell_type": "code",
      "metadata": {
        "id": "Cp9f7V5FvSl-",
        "colab_type": "code",
        "outputId": "222b0b36-5336-47dd-990d-f8fc4909f546",
        "colab": {
          "base_uri": "https://localhost:8080/",
          "height": 50
        }
      },
      "source": [
        "msg = (\"Existen {} registros en los que la columna duracion y la columna tip_time_in_secs difieren.\\n\" +\n",
        "      \"Esta diferencia puede ser de unos cuantos segundos, por lo que para más información es necesario una interpretación diferente.\")\n",
        "print(msg.format(total_diferencias))"
      ],
      "execution_count": 0,
      "outputs": [
        {
          "output_type": "stream",
          "text": [
            "Existen 173176305 registros en los que la columna duracion y la columna tip_time_in_secs difieren.\n",
            "Esta diferencia puede ser de unos cuantos segundos, por lo que para más información es necesario una interpretación diferente.\n"
          ],
          "name": "stdout"
        }
      ]
    },
    {
      "cell_type": "markdown",
      "metadata": {
        "id": "OjQ-tVlxyIH5",
        "colab_type": "text"
      },
      "source": [
        "Definir un viaje_largo como aquellos en los que la duracion del viaje (trip_time_in_secs) sea mayor a 20 minutos."
      ]
    },
    {
      "cell_type": "code",
      "metadata": {
        "id": "Zgrlo2qayJkx",
        "colab_type": "code",
        "colab": {}
      },
      "source": [
        "print(\"Los registros del Dataframe de Viajes Largos son {}\".format(size_vl))"
      ],
      "execution_count": 0,
      "outputs": []
    },
    {
      "cell_type": "markdown",
      "metadata": {
        "id": "b_BgByLh3jKm",
        "colab_type": "text"
      },
      "source": [
        "## 7. Contar el numero de viajes largos en cada archivo"
      ]
    },
    {
      "cell_type": "code",
      "metadata": {
        "id": "EsXpzDsDB43R",
        "colab_type": "code",
        "colab": {}
      },
      "source": [
        "pa = viajes_largos.groupby('path')"
      ],
      "execution_count": 0,
      "outputs": []
    },
    {
      "cell_type": "code",
      "metadata": {
        "id": "FcMojLmVB8FP",
        "colab_type": "code",
        "colab": {}
      },
      "source": [
        "cantidad_viajes_largos = pa.size().compute()"
      ],
      "execution_count": 0,
      "outputs": []
    },
    {
      "cell_type": "markdown",
      "metadata": {
        "id": "-S9bq3cN0Y-1",
        "colab_type": "text"
      },
      "source": [
        "### Resultados"
      ]
    },
    {
      "cell_type": "code",
      "metadata": {
        "id": "wL3Rr0Fz020A",
        "colab_type": "code",
        "outputId": "b01f7287-1fe5-4289-b9ac-beaa2805ca33",
        "colab": {
          "base_uri": "https://localhost:8080/",
          "height": 269
        }
      },
      "source": [
        "print(\"Cantidad de viajes largos por cada archivo\")\n",
        "print(cantidad_viajes_largos)"
      ],
      "execution_count": 0,
      "outputs": [
        {
          "output_type": "stream",
          "text": [
            "Cantidad de viajes largos por cada archivo\n",
            "path\n",
            "/content/gdrive/My Drive/Colab Notebooks/Evaluacion/Data/trip_data_1.csv     1715237\n",
            "/content/gdrive/My Drive/Colab Notebooks/Evaluacion/Data/trip_data_10.csv    2545155\n",
            "/content/gdrive/My Drive/Colab Notebooks/Evaluacion/Data/trip_data_11.csv    2373698\n",
            "/content/gdrive/My Drive/Colab Notebooks/Evaluacion/Data/trip_data_12.csv    2428514\n",
            "/content/gdrive/My Drive/Colab Notebooks/Evaluacion/Data/trip_data_2.csv     1768887\n",
            "/content/gdrive/My Drive/Colab Notebooks/Evaluacion/Data/trip_data_3.csv     2111850\n",
            "/content/gdrive/My Drive/Colab Notebooks/Evaluacion/Data/trip_data_4.csv     2264701\n",
            "/content/gdrive/My Drive/Colab Notebooks/Evaluacion/Data/trip_data_5.csv     2552684\n",
            "/content/gdrive/My Drive/Colab Notebooks/Evaluacion/Data/trip_data_6.csv     2400513\n",
            "/content/gdrive/My Drive/Colab Notebooks/Evaluacion/Data/trip_data_7.csv     2084036\n",
            "/content/gdrive/My Drive/Colab Notebooks/Evaluacion/Data/trip_data_8.csv     1919857\n",
            "/content/gdrive/My Drive/Colab Notebooks/Evaluacion/Data/trip_data_9.csv     2417638\n",
            "dtype: int64\n"
          ],
          "name": "stdout"
        }
      ]
    },
    {
      "cell_type": "markdown",
      "metadata": {
        "id": "lGxxT-LyMZFM",
        "colab_type": "text"
      },
      "source": [
        "## 8. De los viajes largos, identificar el numero de taxis diferentes (la columna `medallion` contiene un numeroque identificada a cada uno de los vehiculos). Que vehiculos son los que mas viajes realizan en cada mes? Son el mismo vehiculo?"
      ]
    },
    {
      "cell_type": "code",
      "metadata": {
        "id": "Al7yG8rAII-E",
        "colab_type": "code",
        "colab": {}
      },
      "source": [
        "def viajes_largos8(data, maximo = 12):\n",
        "    # tf = data.groupby('month').medallion.apply(lambda x: x.value_counts()).to_frame()\n",
        "    tf = data.groupby(['month', 'medallion'])\n",
        "    tf = tf.medallion.size().to_frame()\n",
        "    \n",
        "    tf.columns = ['total']\n",
        "    tf = tf.reset_index()\n",
        "    tf.columns = ['month', 'medallion', 'total']\n",
        "    mejores = []\n",
        "    \n",
        "    for i in range(1, maximo + 1):\n",
        "        v = tf[tf.month == i]\n",
        "        row = v[v.total == v.total.max()]\n",
        "        mejores.append(row)\n",
        "        v = None\n",
        "\n",
        "    tf = None\n",
        "    return mejores"
      ],
      "execution_count": 0,
      "outputs": []
    },
    {
      "cell_type": "code",
      "metadata": {
        "id": "fA7MoOr58T3k",
        "colab_type": "code",
        "colab": {}
      },
      "source": [
        "viajes_largos['month'] = dd.to_datetime(viajes_largos['pickup_datetime']).dt.month"
      ],
      "execution_count": 0,
      "outputs": []
    },
    {
      "cell_type": "code",
      "metadata": {
        "id": "G9RaBaIsJEKr",
        "colab_type": "code",
        "colab": {}
      },
      "source": [
        "mejores_t = delayed(viajes_largos8)(viajes_largos)"
      ],
      "execution_count": 0,
      "outputs": []
    },
    {
      "cell_type": "code",
      "metadata": {
        "id": "bHGLuP3YJvwB",
        "colab_type": "code",
        "colab": {}
      },
      "source": [
        "p8 = mejores_t.compute()"
      ],
      "execution_count": 0,
      "outputs": []
    },
    {
      "cell_type": "markdown",
      "metadata": {
        "id": "Z5aMj1xaPi-z",
        "colab_type": "text"
      },
      "source": [
        "### Respuesta\n",
        "Meses con los taxistas y el número de viajes de los que tienen más viajes en un mes."
      ]
    },
    {
      "cell_type": "code",
      "metadata": {
        "id": "kNamPGTQ_nfe",
        "colab_type": "code",
        "outputId": "6d3fbe51-138e-4efa-ae1a-a8bd028d1c54",
        "colab": {
          "base_uri": "https://localhost:8080/",
          "height": 467
        }
      },
      "source": [
        "p8"
      ],
      "execution_count": 0,
      "outputs": [
        {
          "output_type": "execute_result",
          "data": {
            "text/plain": [
              "[       month                         medallion  total\n",
              " 11428      1  DAF57CF25F00457CC6077CD628EC71AC    272,\n",
              "        month                         medallion  total\n",
              " 24775      2  DB51F659A90E9457DD2A2F4D5A2A3186    262,\n",
              "        month                         medallion  total\n",
              " 30766      3  4E834DFB7A8831D0A5B6F9B80092A61F    287,\n",
              "        month                         medallion  total\n",
              " 41616      4  1E7C1EB194CCFD58634305DBE0588B85    296,\n",
              "        month                         medallion  total\n",
              " 57472      5  4E834DFB7A8831D0A5B6F9B80092A61F    320,\n",
              "        month                         medallion  total\n",
              " 72211      6  698A6074D905BC18FE001032FA0B2048    315,\n",
              "        month                         medallion  total\n",
              " 84544      7  5466D714601371299033C01FB08BB93B    309,\n",
              "        month                         medallion  total\n",
              " 99067      8  6BD1B641A1CD55803A21560299B985A7    308,\n",
              "         month                         medallion  total\n",
              " 111343      9  570D50E20C4E20D4428EBF94F11DF190    328\n",
              " 114134      9  8C3DB699DA9D5A86780602001DF0892D    328,\n",
              "         month                         medallion  total\n",
              " 126748     10  7E5A55739A6EFA325F650FD7739135BF    340,\n",
              "         month                         medallion  total\n",
              " 134505     11  1239300107099B26BF07526F66C30BAF    326,\n",
              "         month                         medallion  total\n",
              " 156807     12  BDF61165DAA42F17D35F5875F01B5C7A    329]"
            ]
          },
          "metadata": {
            "tags": []
          },
          "execution_count": 42
        }
      ]
    },
    {
      "cell_type": "markdown",
      "metadata": {
        "id": "8_hmWUVDduUf",
        "colab_type": "text"
      },
      "source": [
        "## 9. Hacer una grafica temporal del numero total de pasajeros agregados por dias de la semana y despues por horas del dia. Sugerencia: agregar por el correspondiente periodo temporal y graficar. Que pueden observar de las graficas?"
      ]
    },
    {
      "cell_type": "code",
      "metadata": {
        "id": "LvtEc5fNC2Wd",
        "colab_type": "code",
        "colab": {}
      },
      "source": [
        "ddf['month'] = dd.to_datetime(ddf['pickup_datetime']).dt.month\n",
        "ddf['weekday'] = dd.to_datetime(ddf['pickup_datetime']).dt.weekday\n",
        "ddf['hour'] = dd.to_datetime(ddf['dropoff_datetime']).dt.hour"
      ],
      "execution_count": 0,
      "outputs": []
    },
    {
      "cell_type": "markdown",
      "metadata": {
        "id": "fYgeKQ56EXSM",
        "colab_type": "text"
      },
      "source": [
        "### General"
      ]
    },
    {
      "cell_type": "code",
      "metadata": {
        "id": "WFNUqQ65yJUN",
        "colab_type": "code",
        "colab": {}
      },
      "source": [
        "def organizaDatos(data):\n",
        "    data['hora'] = data['dropoff_datetime'].dt.hour\n",
        "    data['dia_semana'] = data['dropoff_datetime'].dt.weekday\n",
        "    data['passenger_count'] = data['passenger_count'].astype(int)\n",
        "    return data\n",
        "\n",
        "def datos9(data, tipo):\n",
        "    data = organizaDatos(data)\n",
        "    grouped = data.groupby(tipo)\n",
        "    suma_ph = grouped['passenger_count'].mean()\n",
        "    ss = suma_ph.to_frame()\n",
        "    return ss\n",
        "\n",
        "def graficas9(data, tipo=\"dia_semana\"):\n",
        "    ss = datos9(data, tipo)\n",
        "    linea = delayed(plt.plot)(ss)\n",
        "    return linea"
      ],
      "execution_count": 0,
      "outputs": []
    },
    {
      "cell_type": "code",
      "metadata": {
        "id": "xtivs73NeE9V",
        "colab_type": "code",
        "colab": {}
      },
      "source": [
        "horas = datos9(ddf, tipo='hora')\n",
        "diass = datos9(ddf, tipo='dia_semana')"
      ],
      "execution_count": 0,
      "outputs": []
    },
    {
      "cell_type": "code",
      "metadata": {
        "id": "w7RJt--DHr4I",
        "colab_type": "code",
        "colab": {}
      },
      "source": [
        "def datos91(data, tipo):\n",
        "    grouped = data.groupby(tipo)\n",
        "    suma_ph = grouped['passenger_count'].mean()\n",
        "    ss = suma_ph.to_frame()\n",
        "    return ss"
      ],
      "execution_count": 0,
      "outputs": []
    },
    {
      "cell_type": "code",
      "metadata": {
        "id": "LN1qa9gaEKF-",
        "colab_type": "code",
        "colab": {}
      },
      "source": [
        "def grafica91(data, tipo='dia_semana'):\n",
        "    data = organizaDatos(data)\n",
        "    \n",
        "    for i in range(1, 13):\n",
        "        tf = data[data.month == i]\n",
        "        ss = datos91(tf, tipo)\n",
        "        linea = delayed(plt.plot)(ss, label=str(i))\n",
        "        linea.compute()\n",
        "        \n",
        "    plt.xlabel('Hora del dia')\n",
        "    plt.ylabel('Número de pasajeros')\n",
        "    plt.show()"
      ],
      "execution_count": 0,
      "outputs": []
    },
    {
      "cell_type": "code",
      "metadata": {
        "id": "Iz_vIjzJFP4a",
        "colab_type": "code",
        "colab": {}
      },
      "source": [
        "grafica91(ddf, tipo=\"hora\")"
      ],
      "execution_count": 0,
      "outputs": []
    },
    {
      "cell_type": "markdown",
      "metadata": {
        "id": "CXIUS5_HzRh3",
        "colab_type": "text"
      },
      "source": [
        "Promedio general para **horas del día**."
      ]
    },
    {
      "cell_type": "code",
      "metadata": {
        "id": "3_wXxtjmzXSi",
        "colab_type": "code",
        "colab": {}
      },
      "source": [
        "linea = graficas9(ddf, tipo='hora')"
      ],
      "execution_count": 0,
      "outputs": []
    },
    {
      "cell_type": "code",
      "metadata": {
        "id": "DyF7wyu9zdf1",
        "colab_type": "code",
        "outputId": "38362750-d6b7-4bb6-ce35-4c5e5a04630a",
        "colab": {
          "base_uri": "https://localhost:8080/",
          "height": 287
        }
      },
      "source": [
        "linea.compute()"
      ],
      "execution_count": 0,
      "outputs": [
        {
          "output_type": "execute_result",
          "data": {
            "text/plain": [
              "[<matplotlib.lines.Line2D at 0x7fc5143c5438>]"
            ]
          },
          "metadata": {
            "tags": []
          },
          "execution_count": 47
        },
        {
          "output_type": "display_data",
          "data": {
            "image/png": "[encoded data removed]",
            "text/plain": [
              "<Figure size 432x288 with 1 Axes>"
            ]
          },
          "metadata": {
            "tags": []
          }
        }
      ]
    },
    {
      "cell_type": "markdown",
      "metadata": {
        "id": "VJcIaGaTt8l0",
        "colab_type": "text"
      },
      "source": [
        "Promedio General para **día de la semana**."
      ]
    },
    {
      "cell_type": "code",
      "metadata": {
        "id": "Hop7DybWziRm",
        "colab_type": "code",
        "colab": {}
      },
      "source": [
        "linea = graficas9(ddf)"
      ],
      "execution_count": 0,
      "outputs": []
    },
    {
      "cell_type": "code",
      "metadata": {
        "id": "clauh5UHzkOi",
        "colab_type": "code",
        "outputId": "fc4af777-7c6b-42ec-80b1-44bd2daaabdd",
        "colab": {
          "base_uri": "https://localhost:8080/",
          "height": 286
        }
      },
      "source": [
        "linea.compute()"
      ],
      "execution_count": 0,
      "outputs": [
        {
          "output_type": "execute_result",
          "data": {
            "text/plain": [
              "[<matplotlib.lines.Line2D at 0x7fc515a9fc50>]"
            ]
          },
          "metadata": {
            "tags": []
          },
          "execution_count": 49
        },
        {
          "output_type": "display_data",
          "data": {
            "image/png": "[encoded data removed]",
            "text/plain": [
              "<Figure size 432x288 with 1 Axes>"
            ]
          },
          "metadata": {
            "tags": []
          }
        }
      ]
    },
    {
      "cell_type": "code",
      "metadata": {
        "id": "ht-5par6QLkL",
        "colab_type": "code",
        "colab": {}
      },
      "source": [
        "grafica91(ddf)"
      ],
      "execution_count": 0,
      "outputs": []
    },
    {
      "cell_type": "markdown",
      "metadata": {
        "id": "BOXTMB7zBFtY",
        "colab_type": "text"
      },
      "source": [
        "### Redención"
      ]
    },
    {
      "cell_type": "code",
      "metadata": {
        "id": "SHJIIAhEiisv",
        "colab_type": "code",
        "colab": {
          "base_uri": "https://localhost:8080/",
          "height": 67
        },
        "outputId": "220b82b5-f2fb-49b7-9f53-8ee6cde9d119"
      },
      "source": [
        "!pip install partd"
      ],
      "execution_count": 19,
      "outputs": [
        {
          "output_type": "stream",
          "text": [
            "Requirement already satisfied: partd in /usr/local/lib/python3.6/dist-packages (1.0.0)\n",
            "Requirement already satisfied: locket in /usr/local/lib/python3.6/dist-packages (from partd) (0.2.0)\n",
            "Requirement already satisfied: toolz in /usr/local/lib/python3.6/dist-packages (from partd) (0.10.0)\n"
          ],
          "name": "stdout"
        }
      ]
    },
    {
      "cell_type": "code",
      "metadata": {
        "id": "kfRWTCjoBIe2",
        "colab_type": "code",
        "colab": {}
      },
      "source": [
        "ddg = ddf.groupby(['month', 'weekday'])\n",
        "ddgh = ddf.groupby(['month', 'hour'])"
      ],
      "execution_count": 0,
      "outputs": []
    },
    {
      "cell_type": "code",
      "metadata": {
        "id": "BqvY0IyPBnOz",
        "colab_type": "code",
        "colab": {
          "base_uri": "https://localhost:8080/",
          "height": 316
        },
        "outputId": "ba55cda0-7c3c-4975-e724-39da499ed147"
      },
      "source": [
        "ddf.head()"
      ],
      "execution_count": 21,
      "outputs": [
        {
          "output_type": "execute_result",
          "data": {
            "text/html": [
              "<div>\n",
              "<style scoped>\n",
              "    .dataframe tbody tr th:only-of-type {\n",
              "        vertical-align: middle;\n",
              "    }\n",
              "\n",
              "    .dataframe tbody tr th {\n",
              "        vertical-align: top;\n",
              "    }\n",
              "\n",
              "    .dataframe thead th {\n",
              "        text-align: right;\n",
              "    }\n",
              "</style>\n",
              "<table border=\"1\" class=\"dataframe\">\n",
              "  <thead>\n",
              "    <tr style=\"text-align: right;\">\n",
              "      <th></th>\n",
              "      <th>Unnamed: 0</th>\n",
              "      <th>medallion</th>\n",
              "      <th>pickup_datetime</th>\n",
              "      <th>dropoff_datetime</th>\n",
              "      <th>passenger_count</th>\n",
              "      <th>trip_time_in_secs</th>\n",
              "      <th>trip_distance</th>\n",
              "      <th>pickup_longitude</th>\n",
              "      <th>pickup_latitude</th>\n",
              "      <th>dropoff_longitude</th>\n",
              "      <th>dropoff_latitude</th>\n",
              "      <th>path</th>\n",
              "      <th>duracion</th>\n",
              "      <th>month</th>\n",
              "      <th>weekday</th>\n",
              "    </tr>\n",
              "  </thead>\n",
              "  <tbody>\n",
              "    <tr>\n",
              "      <th>0</th>\n",
              "      <td>0.0</td>\n",
              "      <td>89D227B655E5C82AECF13C3F540D4CF4</td>\n",
              "      <td>2013-01-01 15:11:48</td>\n",
              "      <td>2013-01-01 15:18:10</td>\n",
              "      <td>4.0</td>\n",
              "      <td>382.0</td>\n",
              "      <td>1.0</td>\n",
              "      <td>-73.978165</td>\n",
              "      <td>40.757977</td>\n",
              "      <td>-73.989838</td>\n",
              "      <td>40.751171</td>\n",
              "      <td>/content/gdrive/My Drive/SD/Datos/trip_data_1.csv</td>\n",
              "      <td>00:06:22</td>\n",
              "      <td>1</td>\n",
              "      <td>1</td>\n",
              "    </tr>\n",
              "    <tr>\n",
              "      <th>1</th>\n",
              "      <td>1.0</td>\n",
              "      <td>0BD7C8F5BA12B88E0B67BED28BEA73D8</td>\n",
              "      <td>2013-01-06 00:18:35</td>\n",
              "      <td>2013-01-06 00:22:54</td>\n",
              "      <td>1.0</td>\n",
              "      <td>259.0</td>\n",
              "      <td>1.5</td>\n",
              "      <td>-74.006683</td>\n",
              "      <td>40.731781</td>\n",
              "      <td>-73.994499</td>\n",
              "      <td>40.750660</td>\n",
              "      <td>/content/gdrive/My Drive/SD/Datos/trip_data_1.csv</td>\n",
              "      <td>00:04:19</td>\n",
              "      <td>1</td>\n",
              "      <td>6</td>\n",
              "    </tr>\n",
              "    <tr>\n",
              "      <th>2</th>\n",
              "      <td>2.0</td>\n",
              "      <td>0BD7C8F5BA12B88E0B67BED28BEA73D8</td>\n",
              "      <td>2013-01-05 18:49:41</td>\n",
              "      <td>2013-01-05 18:54:23</td>\n",
              "      <td>1.0</td>\n",
              "      <td>282.0</td>\n",
              "      <td>1.1</td>\n",
              "      <td>-74.004707</td>\n",
              "      <td>40.737770</td>\n",
              "      <td>-74.009834</td>\n",
              "      <td>40.726002</td>\n",
              "      <td>/content/gdrive/My Drive/SD/Datos/trip_data_1.csv</td>\n",
              "      <td>00:04:42</td>\n",
              "      <td>1</td>\n",
              "      <td>5</td>\n",
              "    </tr>\n",
              "    <tr>\n",
              "      <th>3</th>\n",
              "      <td>3.0</td>\n",
              "      <td>DFD2202EE08F7A8DC9A57B02ACB81FE2</td>\n",
              "      <td>2013-01-07 23:54:15</td>\n",
              "      <td>2013-01-07 23:58:20</td>\n",
              "      <td>2.0</td>\n",
              "      <td>244.0</td>\n",
              "      <td>0.7</td>\n",
              "      <td>-73.974602</td>\n",
              "      <td>40.759945</td>\n",
              "      <td>-73.984734</td>\n",
              "      <td>40.759388</td>\n",
              "      <td>/content/gdrive/My Drive/SD/Datos/trip_data_1.csv</td>\n",
              "      <td>00:04:05</td>\n",
              "      <td>1</td>\n",
              "      <td>0</td>\n",
              "    </tr>\n",
              "    <tr>\n",
              "      <th>4</th>\n",
              "      <td>4.0</td>\n",
              "      <td>DFD2202EE08F7A8DC9A57B02ACB81FE2</td>\n",
              "      <td>2013-01-07 23:25:03</td>\n",
              "      <td>2013-01-07 23:34:24</td>\n",
              "      <td>1.0</td>\n",
              "      <td>560.0</td>\n",
              "      <td>2.1</td>\n",
              "      <td>-73.976250</td>\n",
              "      <td>40.748528</td>\n",
              "      <td>-74.002586</td>\n",
              "      <td>40.747868</td>\n",
              "      <td>/content/gdrive/My Drive/SD/Datos/trip_data_1.csv</td>\n",
              "      <td>00:09:21</td>\n",
              "      <td>1</td>\n",
              "      <td>0</td>\n",
              "    </tr>\n",
              "  </tbody>\n",
              "</table>\n",
              "</div>"
            ],
            "text/plain": [
              "   Unnamed: 0                         medallion  ... month weekday\n",
              "0         0.0  89D227B655E5C82AECF13C3F540D4CF4  ...     1       1\n",
              "1         1.0  0BD7C8F5BA12B88E0B67BED28BEA73D8  ...     1       6\n",
              "2         2.0  0BD7C8F5BA12B88E0B67BED28BEA73D8  ...     1       5\n",
              "3         3.0  DFD2202EE08F7A8DC9A57B02ACB81FE2  ...     1       0\n",
              "4         4.0  DFD2202EE08F7A8DC9A57B02ACB81FE2  ...     1       0\n",
              "\n",
              "[5 rows x 15 columns]"
            ]
          },
          "metadata": {
            "tags": []
          },
          "execution_count": 21
        }
      ]
    },
    {
      "cell_type": "markdown",
      "metadata": {
        "id": "D6YGGsuOuSGS",
        "colab_type": "text"
      },
      "source": [
        "Promedio"
      ]
    },
    {
      "cell_type": "code",
      "metadata": {
        "id": "23B_fNRLBZQj",
        "colab_type": "code",
        "colab": {}
      },
      "source": [
        "prom_pasajeros_dia_hora = ddg.agg({'passenger_count' : ['mean']})"
      ],
      "execution_count": 0,
      "outputs": []
    },
    {
      "cell_type": "code",
      "metadata": {
        "id": "bd-D9LdkCFpJ",
        "colab_type": "code",
        "colab": {
          "base_uri": "https://localhost:8080/",
          "height": 50
        },
        "outputId": "04a7de83-0a1e-415f-8b4c-f30ee2b14dad"
      },
      "source": [
        "%%time\n",
        "prom_pasajeros = prom_pasajeros_dia_hora.compute()"
      ],
      "execution_count": 23,
      "outputs": [
        {
          "output_type": "stream",
          "text": [
            "CPU times: user 12min 4s, sys: 35.1 s, total: 12min 40s\n",
            "Wall time: 9min 15s\n"
          ],
          "name": "stdout"
        }
      ]
    },
    {
      "cell_type": "code",
      "metadata": {
        "id": "-_kux9KLEELK",
        "colab_type": "code",
        "colab": {}
      },
      "source": [
        "prom_pasajeros.columns = ['pasajeros']"
      ],
      "execution_count": 0,
      "outputs": []
    },
    {
      "cell_type": "markdown",
      "metadata": {
        "id": "5LNuj-hS1X1l",
        "colab_type": "text"
      },
      "source": [
        "Total por hora"
      ]
    },
    {
      "cell_type": "code",
      "metadata": {
        "id": "UzaccSxF1ZxC",
        "colab_type": "code",
        "colab": {
          "base_uri": "https://localhost:8080/",
          "height": 50
        },
        "outputId": "14c05d91-55a4-4c38-aedc-644d175248ce"
      },
      "source": [
        "%%time\n",
        "total_pasajeros_hora = ddgh.agg({'passenger_count' : ['sum']})\n",
        "total_pasajeros_h = total_pasajeros_hora.compute()\n",
        "total_pasajeros_h.columns = ['pasajeros']"
      ],
      "execution_count": 45,
      "outputs": [
        {
          "output_type": "stream",
          "text": [
            "CPU times: user 13min 52s, sys: 42.3 s, total: 14min 34s\n",
            "Wall time: 10min 18s\n"
          ],
          "name": "stdout"
        }
      ]
    },
    {
      "cell_type": "markdown",
      "metadata": {
        "id": "sHH122dduQEC",
        "colab_type": "text"
      },
      "source": [
        "Total por día"
      ]
    },
    {
      "cell_type": "code",
      "metadata": {
        "id": "q2_QuUW7t-ib",
        "colab_type": "code",
        "colab": {}
      },
      "source": [
        "total_pasajeros_dia_hora = ddg.agg({'passenger_count' : ['sum']})"
      ],
      "execution_count": 0,
      "outputs": []
    },
    {
      "cell_type": "code",
      "metadata": {
        "id": "CcvBFPZbuIkY",
        "colab_type": "code",
        "colab": {
          "base_uri": "https://localhost:8080/",
          "height": 50
        },
        "outputId": "1e2f110b-7c04-4a9f-a0b1-191b0eac0b45"
      },
      "source": [
        "%%time\n",
        "total_pasajeros = total_pasajeros_dia_hora.compute()\n",
        "prom_pasajeros.columns = ['pasajeros']"
      ],
      "execution_count": 26,
      "outputs": [
        {
          "output_type": "stream",
          "text": [
            "CPU times: user 12min 9s, sys: 35.1 s, total: 12min 44s\n",
            "Wall time: 9min 28s\n"
          ],
          "name": "stdout"
        }
      ]
    },
    {
      "cell_type": "markdown",
      "metadata": {
        "id": "8qjNI_sQt1eC",
        "colab_type": "text"
      },
      "source": [
        "### Resultados"
      ]
    },
    {
      "cell_type": "markdown",
      "metadata": {
        "id": "hDkLPGIIt3k7",
        "colab_type": "text"
      },
      "source": [
        "#### Promedio\n",
        "En el promedio por mes, se puede notar que el mes de **Julio** es el mes que mejor inicia se desempeña en el promedio de los pasajeros que obtiene a lo largo de los días de la semana, mientras que septiembre es el que peor lo hace."
      ]
    },
    {
      "cell_type": "code",
      "metadata": {
        "id": "KwF5IEW_5aua",
        "colab_type": "code",
        "colab": {}
      },
      "source": [
        "colores = ['r', 'g', 'b', 'y', 'k']"
      ],
      "execution_count": 0,
      "outputs": []
    },
    {
      "cell_type": "code",
      "metadata": {
        "id": "jNJCFbsCDUtS",
        "colab_type": "code",
        "colab": {
          "base_uri": "https://localhost:8080/",
          "height": 609
        },
        "outputId": "f2b52048-2080-4651-c93b-9d60d1dc05e2"
      },
      "source": [
        "prom_pasajeros.unstack(level=0).plot(kind='line', style=colores, figsize=(20,10), grid=True);"
      ],
      "execution_count": 32,
      "outputs": [
        {
          "output_type": "display_data",
          "data": {
            "image/png": "[encoded data removed]",
            "text/plain": [
              "<Figure size 1440x720 with 1 Axes>"
            ]
          },
          "metadata": {
            "tags": []
          }
        }
      ]
    },
    {
      "cell_type": "markdown",
      "metadata": {
        "id": "-N55rp_E5-le",
        "colab_type": "text"
      },
      "source": [
        "#### Total de pasajeros agrupados por hora del día\n",
        "En el total de pasajeros agrupados por día, **Febrero** es el mes que se mantiene más por debajo de los otros meses durante la mayor parte de los días, mientras que **marzo** es el mes que se mantiene por encima la mayor parte de los días de la semana.\n",
        "\n",
        "Se nota también que las 5 de la mañana es el peor horario para trabajar, mientras que el mejor horarioson las 7 de la noche."
      ]
    },
    {
      "cell_type": "code",
      "metadata": {
        "id": "Y9Eb6Dbt6BWq",
        "colab_type": "code",
        "colab": {
          "base_uri": "https://localhost:8080/",
          "height": 609
        },
        "outputId": "c905ace5-b484-4963-b5a3-30c4a57fc900"
      },
      "source": [
        "total_pasajeros_h.unstack(level=0).plot(kind='line', style=colores, figsize=(20,10), grid=True);"
      ],
      "execution_count": 46,
      "outputs": [
        {
          "output_type": "display_data",
          "data": {
            "image/png": "[encoded data removed]",
            "text/plain": [
              "<Figure size 1440x720 with 1 Axes>"
            ]
          },
          "metadata": {
            "tags": []
          }
        }
      ]
    },
    {
      "cell_type": "markdown",
      "metadata": {
        "id": "nMG_rY3s56Ii",
        "colab_type": "text"
      },
      "source": [
        "#### Total de pasajeros agrupados por día de la semana\n",
        "En el total de pasajeros por días de la semana, **marzo** y **mayo** son los meses que mejor se desempeñan en la mayoría de los meses."
      ]
    },
    {
      "cell_type": "code",
      "metadata": {
        "id": "N6fKFMsrx4Sj",
        "colab_type": "code",
        "colab": {
          "base_uri": "https://localhost:8080/",
          "height": 609
        },
        "outputId": "4f48028d-7842-4c8f-f3b0-3a8d86e1fa7c"
      },
      "source": [
        "total_pasajeros.unstack(level=0).plot(kind='line', style=colores, figsize=(20,10), grid=True);"
      ],
      "execution_count": 33,
      "outputs": [
        {
          "output_type": "display_data",
          "data": {
            "image/png": "[encoded data removed]",
            "text/plain": [
              "<Figure size 1440x720 with 1 Axes>"
            ]
          },
          "metadata": {
            "tags": []
          }
        }
      ]
    },
    {
      "cell_type": "markdown",
      "metadata": {
        "id": "0cevwXvVtO82",
        "colab_type": "text"
      },
      "source": [
        "## 10. Elegir el vehiculo con mas viajes en cada mes y graficar en un mapa los sitios donde se suben pasajeros agrupados por\n",
        "   * dia de la semana (un color distinto para cada dia)\n",
        "   * hora del dia (un color distinto para cada intervalo de cuatro horas,00:00 - 03:59, 04:00--07:59, 08:00-11:59, etc.)"
      ]
    },
    {
      "cell_type": "markdown",
      "metadata": {
        "id": "fJu_JjypPDOV",
        "colab_type": "text"
      },
      "source": [
        "_No pude terminar este punto debido a problemas al leer los archivos almacenados en el almacenamiento de GDrive._"
      ]
    },
    {
      "cell_type": "code",
      "metadata": {
        "id": "9C9OndMAtSaN",
        "colab_type": "code",
        "colab": {}
      },
      "source": [
        "vehiculos = ddf.groupby('medallion')"
      ],
      "execution_count": 0,
      "outputs": []
    },
    {
      "cell_type": "code",
      "metadata": {
        "id": "WPaxpp5o5DhA",
        "colab_type": "code",
        "colab": {}
      },
      "source": [
        "mp = vehiculos['passenger_count'] == vehiculos['passenger_count'].max()"
      ],
      "execution_count": 0,
      "outputs": []
    },
    {
      "cell_type": "code",
      "metadata": {
        "id": "0187b36i7YRK",
        "colab_type": "code",
        "colab": {}
      },
      "source": [
        "mp = mp.to_frame()"
      ],
      "execution_count": 0,
      "outputs": []
    },
    {
      "cell_type": "code",
      "metadata": {
        "id": "psLeomu5YMxt",
        "colab_type": "code",
        "outputId": "ad73e1ca-80f3-48bc-d3a7-a29cbb7989af",
        "colab": {
          "base_uri": "https://localhost:8080/",
          "height": 170
        }
      },
      "source": [
        "mp"
      ],
      "execution_count": 0,
      "outputs": [
        {
          "output_type": "execute_result",
          "data": {
            "text/html": [
              "<div><strong>Dask DataFrame Structure:</strong></div>\n",
              "<div>\n",
              "<style scoped>\n",
              "    .dataframe tbody tr th:only-of-type {\n",
              "        vertical-align: middle;\n",
              "    }\n",
              "\n",
              "    .dataframe tbody tr th {\n",
              "        vertical-align: top;\n",
              "    }\n",
              "\n",
              "    .dataframe thead th {\n",
              "        text-align: right;\n",
              "    }\n",
              "</style>\n",
              "<table border=\"1\" class=\"dataframe\">\n",
              "  <thead>\n",
              "    <tr style=\"text-align: right;\">\n",
              "      <th></th>\n",
              "      <th>passenger_count</th>\n",
              "    </tr>\n",
              "    <tr>\n",
              "      <th>npartitions=1</th>\n",
              "      <th></th>\n",
              "    </tr>\n",
              "  </thead>\n",
              "  <tbody>\n",
              "    <tr>\n",
              "      <th></th>\n",
              "      <td>bool</td>\n",
              "    </tr>\n",
              "    <tr>\n",
              "      <th></th>\n",
              "      <td>...</td>\n",
              "    </tr>\n",
              "  </tbody>\n",
              "</table>\n",
              "</div>\n",
              "<div>Dask Name: to_frame, 6934 tasks</div>"
            ],
            "text/plain": [
              "Dask DataFrame Structure:\n",
              "              passenger_count\n",
              "npartitions=1                \n",
              "                         bool\n",
              "                          ...\n",
              "Dask Name: to_frame, 6934 tasks"
            ]
          },
          "metadata": {
            "tags": []
          },
          "execution_count": 100
        }
      ]
    },
    {
      "cell_type": "code",
      "metadata": {
        "id": "RR5_iIYddORo",
        "colab_type": "code",
        "outputId": "823e2cb7-11c6-4bf0-b299-4a7ee6a9228f",
        "colab": {
          "base_uri": "https://localhost:8080/",
          "height": 225
        }
      },
      "source": [
        "mp.head()"
      ],
      "execution_count": 0,
      "outputs": [
        {
          "output_type": "execute_result",
          "data": {
            "text/html": [
              "<div>\n",
              "<style scoped>\n",
              "    .dataframe tbody tr th:only-of-type {\n",
              "        vertical-align: middle;\n",
              "    }\n",
              "\n",
              "    .dataframe tbody tr th {\n",
              "        vertical-align: top;\n",
              "    }\n",
              "\n",
              "    .dataframe thead th {\n",
              "        text-align: right;\n",
              "    }\n",
              "</style>\n",
              "<table border=\"1\" class=\"dataframe\">\n",
              "  <thead>\n",
              "    <tr style=\"text-align: right;\">\n",
              "      <th></th>\n",
              "      <th>passenger_count</th>\n",
              "    </tr>\n",
              "    <tr>\n",
              "      <th>medallion</th>\n",
              "      <th></th>\n",
              "    </tr>\n",
              "  </thead>\n",
              "  <tbody>\n",
              "    <tr>\n",
              "      <th>000318C2E3E6381580E5C99910A60668</th>\n",
              "      <td>False</td>\n",
              "    </tr>\n",
              "    <tr>\n",
              "      <th>002B4CFC5B8920A87065FC131F9732D1</th>\n",
              "      <td>False</td>\n",
              "    </tr>\n",
              "    <tr>\n",
              "      <th>002E3B405B6ABEA23B6305D3766140F1</th>\n",
              "      <td>False</td>\n",
              "    </tr>\n",
              "    <tr>\n",
              "      <th>0030AD2648D81EE87796445DB61FCF20</th>\n",
              "      <td>False</td>\n",
              "    </tr>\n",
              "    <tr>\n",
              "      <th>0035520A854E4F2769B37DAF5357426F</th>\n",
              "      <td>False</td>\n",
              "    </tr>\n",
              "  </tbody>\n",
              "</table>\n",
              "</div>"
            ],
            "text/plain": [
              "                                  passenger_count\n",
              "medallion                                        \n",
              "000318C2E3E6381580E5C99910A60668            False\n",
              "002B4CFC5B8920A87065FC131F9732D1            False\n",
              "002E3B405B6ABEA23B6305D3766140F1            False\n",
              "0030AD2648D81EE87796445DB61FCF20            False\n",
              "0035520A854E4F2769B37DAF5357426F            False"
            ]
          },
          "metadata": {
            "tags": []
          },
          "execution_count": 101
        }
      ]
    },
    {
      "cell_type": "code",
      "metadata": {
        "id": "WpaJhLiMcXRo",
        "colab_type": "code",
        "outputId": "d50a8c20-c4f5-4133-9afa-f12ac5b300f3",
        "colab": {
          "base_uri": "https://localhost:8080/",
          "height": 168
        }
      },
      "source": [
        "aaa['medallion']"
      ],
      "execution_count": 0,
      "outputs": [
        {
          "output_type": "execute_result",
          "data": {
            "text/plain": [
              "Dask Series Structure:\n",
              "npartitions=157\n",
              "    object\n",
              "       ...\n",
              "     ...  \n",
              "       ...\n",
              "       ...\n",
              "Name: medallion, dtype: object\n",
              "Dask Name: getitem, 6908 tasks"
            ]
          },
          "metadata": {
            "tags": []
          },
          "execution_count": 86
        }
      ]
    },
    {
      "cell_type": "code",
      "metadata": {
        "id": "2V2_moVBcaWZ",
        "colab_type": "code",
        "outputId": "296e947f-7177-4a32-bff2-bf425f6e382c",
        "colab": {
          "base_uri": "https://localhost:8080/",
          "height": 118
        }
      },
      "source": [
        "mp['medallion']"
      ],
      "execution_count": 0,
      "outputs": [
        {
          "output_type": "execute_result",
          "data": {
            "text/plain": [
              "Dask Series Structure:\n",
              "npartitions=1\n",
              "    object\n",
              "       ...\n",
              "Name: medallion, dtype: object\n",
              "Dask Name: getitem, 6936 tasks"
            ]
          },
          "metadata": {
            "tags": []
          },
          "execution_count": 87
        }
      ]
    },
    {
      "cell_type": "code",
      "metadata": {
        "id": "SmNr8ujj739j",
        "colab_type": "code",
        "colab": {}
      },
      "source": [
        "mas_pasajeros = aaa.loc[mp['medallion']]"
      ],
      "execution_count": 0,
      "outputs": []
    },
    {
      "cell_type": "code",
      "metadata": {
        "id": "QUhZjaZeYxT4",
        "colab_type": "code",
        "outputId": "b0fd519d-e0cc-4891-fbc3-e45a68eb9298",
        "colab": {
          "base_uri": "https://localhost:8080/",
          "height": 34
        }
      },
      "source": [
        "type(mas_pasajeros)"
      ],
      "execution_count": 0,
      "outputs": [
        {
          "output_type": "execute_result",
          "data": {
            "text/plain": [
              "dask.dataframe.core.DataFrame"
            ]
          },
          "metadata": {
            "tags": []
          },
          "execution_count": 84
        }
      ]
    },
    {
      "cell_type": "code",
      "metadata": {
        "id": "Qp0A1YUwY1iB",
        "colab_type": "code",
        "colab": {}
      },
      "source": [
        "mas_pasajeros.head()"
      ],
      "execution_count": 0,
      "outputs": []
    },
    {
      "cell_type": "markdown",
      "metadata": {
        "id": "QRQp3LLNfLo_",
        "colab_type": "text"
      },
      "source": [
        "#### Mapa"
      ]
    },
    {
      "cell_type": "code",
      "metadata": {
        "id": "TcgsbstahuuL",
        "colab_type": "code",
        "outputId": "915cf10e-6e7d-418f-98d0-a776dfa6af62",
        "colab": {
          "base_uri": "https://localhost:8080/",
          "height": 121
        }
      },
      "source": [
        "!pip install pyproj"
      ],
      "execution_count": 0,
      "outputs": [
        {
          "output_type": "stream",
          "text": [
            "Collecting pyproj\n",
            "\u001b[?25l  Downloading https://files.pythonhosted.org/packages/16/59/43869adef45ce4f1cf7d5c3aef1ea5d65d449050abdda5de7a2465c5729d/pyproj-2.2.1-cp36-cp36m-manylinux1_x86_64.whl (11.2MB)\n",
            "\u001b[K     |████████████████████████████████| 11.2MB 2.8MB/s \n",
            "\u001b[?25hInstalling collected packages: pyproj\n",
            "Successfully installed pyproj-2.2.1\n"
          ],
          "name": "stdout"
        }
      ]
    },
    {
      "cell_type": "code",
      "metadata": {
        "id": "hLtemsm9fFj-",
        "colab_type": "code",
        "colab": {}
      },
      "source": [
        "from pyproj import Proj, transform\n",
        "\n",
        "def wmLongitud(longitud):\n",
        "    mercator = transform(Proj(init='epsg:4326'), Proj(init='epsg:3857'), longitud, 0)\n",
        "    return mercator[0]\n",
        "\n",
        "def wmLatitud(latitud):\n",
        "    mercator = transform(Proj(init='epsg:4326'), Proj(init='epsg:3857'), 0, latitud)\n",
        "    return mercator[1]"
      ],
      "execution_count": 0,
      "outputs": []
    },
    {
      "cell_type": "code",
      "metadata": {
        "id": "SRZyTN5ghWSG",
        "colab_type": "code",
        "colab": {}
      },
      "source": [
        "ddf['pickup_longitude']  = ddf['pickup_longitude'].map(wmLongitud).astype(float)\n",
        "ddf['pickup_latitude']   = ddf['pickup_latitude'].map(wmLatitud).astype(float)\n",
        "ddf['dropoff_longitude'] = ddf['dropoff_longitude'].map(wmLongitud).astype(float)\n",
        "ddf['dropoff_latitude']  = ddf['dropoff_latitude'].map(wmLatitud).astype(float)"
      ],
      "execution_count": 0,
      "outputs": []
    },
    {
      "cell_type": "code",
      "metadata": {
        "id": "vTs3T8HRoWDs",
        "colab_type": "code",
        "colab": {}
      },
      "source": [
        "!pip install datashader"
      ],
      "execution_count": 0,
      "outputs": []
    },
    {
      "cell_type": "code",
      "metadata": {
        "id": "HtJp_Ou3iBhG",
        "colab_type": "code",
        "colab": {}
      },
      "source": [
        "import datashader as ds\n",
        "import datashader.glyphs\n",
        "import datashader.transfer_functions as tf\n",
        "\n",
        "# Limitación espacial del área de NY\n",
        "NYC = x_range, y_range = ((-8242000,-8210000), (4965000,4990000))\n",
        "\n",
        "plot_width  = int(750)\n",
        "plot_height = int(plot_width//1.2)\n",
        "\n",
        "cvs = ds.Canvas(plot_width=plot_width, plot_height=plot_height, x_range=x_range, y_range=y_range)"
      ],
      "execution_count": 0,
      "outputs": []
    },
    {
      "cell_type": "code",
      "metadata": {
        "id": "Vl0EBz-GkP_p",
        "colab_type": "code",
        "colab": {}
      },
      "source": [
        "@delayed\n",
        "def imprimeMapa():\n",
        "    cmapBlue    = [\"white\", 'darkblue']\n",
        "    dropoff_agg = cvs.points(ddf, 'dropoff_longitude', 'dropoff_latitude') \n",
        "    dropoff_img = tf.shade(dropoff_agg, cmap=cmapBlue, how='eq_hist')\n",
        "    tf.set_background(dropoff_img, 'black')"
      ],
      "execution_count": 0,
      "outputs": []
    },
    {
      "cell_type": "code",
      "metadata": {
        "id": "xGODX8rL2AXP",
        "colab_type": "code",
        "colab": {}
      },
      "source": [
        "from dask.diagnostics import ProgressBar"
      ],
      "execution_count": 0,
      "outputs": []
    },
    {
      "cell_type": "code",
      "metadata": {
        "id": "xmqe7cKfozXi",
        "colab_type": "code",
        "colab": {}
      },
      "source": [
        "%%time\n",
        "with ProgressBar():\n",
        "    imprimeMapa().compute()"
      ],
      "execution_count": 0,
      "outputs": []
    },
    {
      "cell_type": "code",
      "metadata": {
        "id": "VVkXd-_nt5sR",
        "colab_type": "code",
        "outputId": "5b8943aa-4b82-4c93-c528-84cbe9af73ae",
        "colab": {
          "base_uri": "https://localhost:8080/",
          "height": 34
        }
      },
      "source": [
        "cmapBlue    = [\"white\", 'darkblue']\n",
        "with ProgressBar():\n",
        "    dropoff_agg = cvs.points(ddf, 'dropoff_longitude', 'dropoff_latitude') \n",
        "    dropoff_img = tf.shade(dropoff_agg, cmap=cmapBlue, how='eq_hist')\n",
        "tf.set_background(dropoff_img, 'black')"
      ],
      "execution_count": 0,
      "outputs": [
        {
          "output_type": "stream",
          "text": [
            "[                                        ] | 0% Completed |  9.8s"
          ],
          "name": "stdout"
        }
      ]
    },
    {
      "cell_type": "code",
      "metadata": {
        "id": "tNHv_dH63gpP",
        "colab_type": "code",
        "colab": {}
      },
      "source": [
        ""
      ],
      "execution_count": 0,
      "outputs": []
    },
    {
      "cell_type": "markdown",
      "metadata": {
        "id": "a_pOumxwY_7W",
        "colab_type": "text"
      },
      "source": [
        "# Prueba agrupación"
      ]
    },
    {
      "cell_type": "markdown",
      "metadata": {
        "id": "1rswtdLfaJqF",
        "colab_type": "text"
      },
      "source": [
        "## Carga el archivo"
      ]
    },
    {
      "cell_type": "code",
      "metadata": {
        "id": "K9vK51VpZyiR",
        "colab_type": "code",
        "colab": {}
      },
      "source": [
        "cs = pd.read_csv('https://raw.githubusercontent.com/ark150/ProyectoTI2Final/master/comentarios.csv')"
      ],
      "execution_count": 0,
      "outputs": []
    },
    {
      "cell_type": "code",
      "metadata": {
        "id": "LQEg8zc8did7",
        "colab_type": "code",
        "colab": {}
      },
      "source": [
        "cs = cs.drop('Precio recomendado', axis=1)"
      ],
      "execution_count": 0,
      "outputs": []
    },
    {
      "cell_type": "code",
      "metadata": {
        "id": "Y1dlFkquZ-KK",
        "colab_type": "code",
        "outputId": "4af11f4b-3825-4359-fee6-5db5e131869c",
        "colab": {
          "base_uri": "https://localhost:8080/",
          "height": 34
        }
      },
      "source": [
        "pwd"
      ],
      "execution_count": 9,
      "outputs": [
        {
          "output_type": "execute_result",
          "data": {
            "text/plain": [
              "'/content'"
            ]
          },
          "metadata": {
            "tags": []
          },
          "execution_count": 9
        }
      ]
    },
    {
      "cell_type": "code",
      "metadata": {
        "id": "V4g4KzPRZ6UL",
        "colab_type": "code",
        "colab": {}
      },
      "source": [
        "cs.to_csv('/content/prueba.csv')"
      ],
      "execution_count": 0,
      "outputs": []
    },
    {
      "cell_type": "code",
      "metadata": {
        "id": "rBDJkVsIaIKy",
        "colab_type": "code",
        "colab": {}
      },
      "source": [
        "cs = None"
      ],
      "execution_count": 0,
      "outputs": []
    },
    {
      "cell_type": "markdown",
      "metadata": {
        "id": "9Ji3OJfhaMCi",
        "colab_type": "text"
      },
      "source": [
        "## Dask"
      ]
    },
    {
      "cell_type": "code",
      "metadata": {
        "id": "QWZ9kHwzicvY",
        "colab_type": "code",
        "colab": {
          "base_uri": "https://localhost:8080/",
          "height": 218
        },
        "outputId": "b4ce9519-f8da-488d-cd34-df9206dc1f71"
      },
      "source": [
        "!pip install partd"
      ],
      "execution_count": 2,
      "outputs": [
        {
          "output_type": "stream",
          "text": [
            "Collecting partd\n",
            "  Downloading https://files.pythonhosted.org/packages/8b/17/09c352519da1db31634979c3aa9126078e9ece0f561c5f641e0649b78905/partd-1.0.0-py2.py3-none-any.whl\n",
            "Requirement already satisfied: toolz in /usr/local/lib/python3.6/dist-packages (from partd) (0.10.0)\n",
            "Collecting locket (from partd)\n",
            "  Downloading https://files.pythonhosted.org/packages/d0/22/3c0f97614e0be8386542facb3a7dcfc2584f7b83608c02333bced641281c/locket-0.2.0.tar.gz\n",
            "Building wheels for collected packages: locket\n",
            "  Building wheel for locket (setup.py) ... \u001b[?25l\u001b[?25hdone\n",
            "  Created wheel for locket: filename=locket-0.2.0-cp36-none-any.whl size=4040 sha256=18b89471b81a265e50fc54d18e026780727f6d7825fd484f9b05df4a92dcd59d\n",
            "  Stored in directory: /root/.cache/pip/wheels/26/1e/e8/4fa236ec931b1a0cdd61578e20d4934d7bf188858723b84698\n",
            "Successfully built locket\n",
            "Installing collected packages: locket, partd\n",
            "Successfully installed locket-0.2.0 partd-1.0.0\n"
          ],
          "name": "stdout"
        }
      ]
    },
    {
      "cell_type": "code",
      "metadata": {
        "id": "hHdruY_uZCkR",
        "colab_type": "code",
        "colab": {}
      },
      "source": [
        "ddf = dd.read_csv('prueba.csv', assume_missing=True)\n",
        "ddf = ddf.drop('Unnamed: 0', axis=1)"
      ],
      "execution_count": 0,
      "outputs": []
    },
    {
      "cell_type": "code",
      "metadata": {
        "id": "YtXmBU7ijqDD",
        "colab_type": "code",
        "outputId": "f2de9efe-2723-4b23-c3ce-23dcd523f645",
        "colab": {
          "base_uri": "https://localhost:8080/",
          "height": 753
        }
      },
      "source": [
        "ddf.head()"
      ],
      "execution_count": 0,
      "outputs": [
        {
          "output_type": "execute_result",
          "data": {
            "text/html": [
              "<div>\n",
              "<style scoped>\n",
              "    .dataframe tbody tr th:only-of-type {\n",
              "        vertical-align: middle;\n",
              "    }\n",
              "\n",
              "    .dataframe tbody tr th {\n",
              "        vertical-align: top;\n",
              "    }\n",
              "\n",
              "    .dataframe thead th {\n",
              "        text-align: right;\n",
              "    }\n",
              "</style>\n",
              "<table border=\"1\" class=\"dataframe\">\n",
              "  <thead>\n",
              "    <tr style=\"text-align: right;\">\n",
              "      <th></th>\n",
              "      <th>﻿Link</th>\n",
              "      <th>ID</th>\n",
              "      <th>Producto</th>\n",
              "      <th>Por</th>\n",
              "      <th>Cantidades de comentarios</th>\n",
              "      <th>Precio</th>\n",
              "      <th>Nombre alternativo</th>\n",
              "      <th>Por usuario</th>\n",
              "      <th>Fecha de review</th>\n",
              "      <th>Titulo review</th>\n",
              "      <th>Review</th>\n",
              "      <th>Utilidad para personas</th>\n",
              "    </tr>\n",
              "  </thead>\n",
              "  <tbody>\n",
              "    <tr>\n",
              "      <th>0</th>\n",
              "      <td>https://www.amazon.com.mx/dp/B0746LZK1R</td>\n",
              "      <td>B0746LZK1R</td>\n",
              "      <td>2017 Newest Business Flagship Dell Inspiron 15...</td>\n",
              "      <td>por Dell</td>\n",
              "      <td>29.0</td>\n",
              "      <td>19090.0</td>\n",
              "      <td>$19,090.00,Envío en 3 a 4 días.,$19,090.00</td>\n",
              "      <td>5.0</td>\n",
              "      <td>2017-08-25</td>\n",
              "      <td>Turned out to be better than I thought</td>\n",
              "      <td>Turned out to be better than I thought, very f...</td>\n",
              "      <td>17.0</td>\n",
              "    </tr>\n",
              "    <tr>\n",
              "      <th>1</th>\n",
              "      <td>https://www.amazon.com.mx/dp/B0746LZK1R</td>\n",
              "      <td>B0746LZK1R</td>\n",
              "      <td>2017 Newest Business Flagship Dell Inspiron 15...</td>\n",
              "      <td>por Dell</td>\n",
              "      <td>29.0</td>\n",
              "      <td>19090.0</td>\n",
              "      <td>$19,090.00,Envío en 3 a 4 días.,$19,090.00</td>\n",
              "      <td>5.0</td>\n",
              "      <td>2017-10-29</td>\n",
              "      <td>Work MachineWith a Dull Screen</td>\n",
              "      <td>A good machine with most of the bells and whis...</td>\n",
              "      <td>12.0</td>\n",
              "    </tr>\n",
              "    <tr>\n",
              "      <th>2</th>\n",
              "      <td>https://www.amazon.com.mx/dp/B0746LZK1R</td>\n",
              "      <td>B0746LZK1R</td>\n",
              "      <td>2017 Newest Business Flagship Dell Inspiron 15...</td>\n",
              "      <td>por Dell</td>\n",
              "      <td>29.0</td>\n",
              "      <td>19090.0</td>\n",
              "      <td>$19,090.00,Envío en 3 a 4 días.,$19,090.00</td>\n",
              "      <td>4.0</td>\n",
              "      <td>2018-06-01</td>\n",
              "      <td>It sucked. Dell replaced it with a better mode...</td>\n",
              "      <td>I bought this laptop and it had an issue. I th...</td>\n",
              "      <td>0.0</td>\n",
              "    </tr>\n",
              "    <tr>\n",
              "      <th>3</th>\n",
              "      <td>https://www.amazon.com.mx/dp/B0746LZK1R</td>\n",
              "      <td>B0746LZK1R</td>\n",
              "      <td>2017 Newest Business Flagship Dell Inspiron 15...</td>\n",
              "      <td>por Dell</td>\n",
              "      <td>29.0</td>\n",
              "      <td>19090.0</td>\n",
              "      <td>$19,090.00,Envío en 3 a 4 días.,$19,090.00</td>\n",
              "      <td>5.0</td>\n",
              "      <td>2018-07-16</td>\n",
              "      <td>Quick boot up, Great price</td>\n",
              "      <td>This laptop has been nothing but outstanding. ...</td>\n",
              "      <td>0.0</td>\n",
              "    </tr>\n",
              "    <tr>\n",
              "      <th>4</th>\n",
              "      <td>https://www.amazon.com.mx/dp/B0746LZK1R</td>\n",
              "      <td>B0746LZK1R</td>\n",
              "      <td>2017 Newest Business Flagship Dell Inspiron 15...</td>\n",
              "      <td>por Dell</td>\n",
              "      <td>29.0</td>\n",
              "      <td>19090.0</td>\n",
              "      <td>$19,090.00,Envío en 3 a 4 días.,$19,090.00</td>\n",
              "      <td>2.0</td>\n",
              "      <td>2018-02-12</td>\n",
              "      <td>I got a lemon</td>\n",
              "      <td>I have had this laptop 6 weeks and about week ...</td>\n",
              "      <td>0.0</td>\n",
              "    </tr>\n",
              "  </tbody>\n",
              "</table>\n",
              "</div>"
            ],
            "text/plain": [
              "                                     ﻿Link  ... Utilidad para personas\n",
              "0  https://www.amazon.com.mx/dp/B0746LZK1R  ...                   17.0\n",
              "1  https://www.amazon.com.mx/dp/B0746LZK1R  ...                   12.0\n",
              "2  https://www.amazon.com.mx/dp/B0746LZK1R  ...                    0.0\n",
              "3  https://www.amazon.com.mx/dp/B0746LZK1R  ...                    0.0\n",
              "4  https://www.amazon.com.mx/dp/B0746LZK1R  ...                    0.0\n",
              "\n",
              "[5 rows x 12 columns]"
            ]
          },
          "metadata": {
            "tags": []
          },
          "execution_count": 13
        }
      ]
    },
    {
      "cell_type": "code",
      "metadata": {
        "id": "Sx6Hx3sTcd-9",
        "colab_type": "code",
        "outputId": "bd6b392b-1a58-4241-bc8d-bc5faf3a19ae",
        "colab": {
          "base_uri": "https://localhost:8080/",
          "height": 34
        }
      },
      "source": [
        "type(ddf)"
      ],
      "execution_count": 0,
      "outputs": [
        {
          "output_type": "execute_result",
          "data": {
            "text/plain": [
              "dask.dataframe.core.DataFrame"
            ]
          },
          "metadata": {
            "tags": []
          },
          "execution_count": 69
        }
      ]
    },
    {
      "cell_type": "code",
      "metadata": {
        "id": "oniupNMRfngW",
        "colab_type": "code",
        "colab": {}
      },
      "source": [
        "ddg = ddf.groupby('ID')"
      ],
      "execution_count": 0,
      "outputs": []
    },
    {
      "cell_type": "code",
      "metadata": {
        "id": "GOWGc0C4mQv_",
        "colab_type": "code",
        "outputId": "70389b63-c740-4f25-e018-eb16107b1ae8",
        "colab": {
          "base_uri": "https://localhost:8080/",
          "height": 34
        }
      },
      "source": [
        "ddg"
      ],
      "execution_count": 0,
      "outputs": [
        {
          "output_type": "execute_result",
          "data": {
            "text/plain": [
              "<dask.dataframe.groupby.DataFrameGroupBy at 0x7f241baa3320>"
            ]
          },
          "metadata": {
            "tags": []
          },
          "execution_count": 118
        }
      ]
    },
    {
      "cell_type": "code",
      "metadata": {
        "id": "Jcy0pGRw2kA9",
        "colab_type": "code",
        "colab": {}
      },
      "source": [
        "a = ddg.agg({'Cantidades de comentarios' : ['mean']})"
      ],
      "execution_count": 0,
      "outputs": []
    },
    {
      "cell_type": "code",
      "metadata": {
        "id": "aauFCaW2_m-0",
        "colab_type": "code",
        "colab": {}
      },
      "source": [
        "aa = a.compute()"
      ],
      "execution_count": 0,
      "outputs": []
    },
    {
      "cell_type": "code",
      "metadata": {
        "id": "YuyEdWSk-9zg",
        "colab_type": "code",
        "colab": {
          "base_uri": "https://localhost:8080/",
          "height": 34
        },
        "outputId": "b41d5fb8-2d12-46a1-b3b1-852223fcbbe4"
      },
      "source": [
        "type(aa)"
      ],
      "execution_count": 24,
      "outputs": [
        {
          "output_type": "execute_result",
          "data": {
            "text/plain": [
              "pandas.core.frame.DataFrame"
            ]
          },
          "metadata": {
            "tags": []
          },
          "execution_count": 24
        }
      ]
    },
    {
      "cell_type": "code",
      "metadata": {
        "id": "HCQ0Eg1i_UEk",
        "colab_type": "code",
        "colab": {
          "base_uri": "https://localhost:8080/",
          "height": 300
        },
        "outputId": "059b6496-a950-4415-ad8a-cac565ba0634"
      },
      "source": [
        "aa.plot(kind='line')"
      ],
      "execution_count": 26,
      "outputs": [
        {
          "output_type": "execute_result",
          "data": {
            "text/plain": [
              "<matplotlib.axes._subplots.AxesSubplot at 0x7f4fea3cbb70>"
            ]
          },
          "metadata": {
            "tags": []
          },
          "execution_count": 26
        },
        {
          "output_type": "display_data",
          "data": {
            "image/png": "[encoded data removed]",
            "text/plain": [
              "<Figure size 432x288 with 1 Axes>"
            ]
          },
          "metadata": {
            "tags": []
          }
        }
      ]
    },
    {
      "cell_type": "code",
      "metadata": {
        "id": "ep-UTXnS_XT_",
        "colab_type": "code",
        "colab": {}
      },
      "source": [
        ""
      ],
      "execution_count": 0,
      "outputs": []
    }
  ]
}